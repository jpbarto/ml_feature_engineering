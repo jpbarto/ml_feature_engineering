{
 "cells": [
  {
   "cell_type": "markdown",
   "metadata": {},
   "source": [
    "# Feature engineering demonstration"
   ]
  },
  {
   "cell_type": "markdown",
   "metadata": {},
   "source": [
    "---\n",
    "## Load data from CSV"
   ]
  },
  {
   "cell_type": "code",
   "execution_count": null,
   "metadata": {},
   "outputs": [],
   "source": [
    "!ls"
   ]
  },
  {
   "cell_type": "code",
   "execution_count": 1,
   "metadata": {},
   "outputs": [],
   "source": [
    "# Introduce imports which we will use next\n",
    "import pandas as pd\n",
    "import numpy as np\n",
    "from datetime import datetime\n",
    "import matplotlib as mpl\n",
    "import matplotlib.pyplot as plt\n",
    "%matplotlib inline\n",
    "import seaborn as sns\n",
    "sns.set(color_codes=True)"
   ]
  },
  {
   "cell_type": "code",
   "execution_count": 2,
   "metadata": {},
   "outputs": [],
   "source": [
    "df = pd.read_csv ('deutsche-boerse-xetra-pds_week39.csv')"
   ]
  },
  {
   "cell_type": "markdown",
   "metadata": {},
   "source": [
    "---\n",
    "## Explore the data"
   ]
  },
  {
   "cell_type": "code",
   "execution_count": null,
   "metadata": {},
   "outputs": [],
   "source": [
    "df.info ()"
   ]
  },
  {
   "cell_type": "code",
   "execution_count": null,
   "metadata": {},
   "outputs": [],
   "source": [
    "df.sample (5)"
   ]
  },
  {
   "cell_type": "code",
   "execution_count": null,
   "metadata": {},
   "outputs": [],
   "source": [
    "len(df.ISIN.unique())"
   ]
  },
  {
   "cell_type": "code",
   "execution_count": null,
   "metadata": {},
   "outputs": [],
   "source": [
    "len(df.Mnemonic.unique())"
   ]
  },
  {
   "cell_type": "code",
   "execution_count": null,
   "metadata": {},
   "outputs": [],
   "source": [
    "len(df.SecurityDesc.unique())"
   ]
  },
  {
   "cell_type": "code",
   "execution_count": 3,
   "metadata": {},
   "outputs": [
    {
     "data": {
      "text/plain": [
       "array(['ETF', 'Common stock', 'ETC', 'Other', 'ETN'], dtype=object)"
      ]
     },
     "execution_count": 3,
     "metadata": {},
     "output_type": "execute_result"
    }
   ],
   "source": [
    "df.SecurityType.unique()"
   ]
  },
  {
   "cell_type": "code",
   "execution_count": 5,
   "metadata": {},
   "outputs": [
    {
     "data": {
      "text/plain": [
       "Common stock    286933\n",
       "ETF              33960\n",
       "ETC               2170\n",
       "Other              745\n",
       "ETN                134\n",
       "Name: SecurityType, dtype: int64"
      ]
     },
     "execution_count": 5,
     "metadata": {},
     "output_type": "execute_result"
    }
   ],
   "source": [
    "df.SecurityType.value_counts ()"
   ]
  },
  {
   "cell_type": "code",
   "execution_count": null,
   "metadata": {},
   "outputs": [],
   "source": [
    "df.Currency.unique()"
   ]
  },
  {
   "cell_type": "code",
   "execution_count": 6,
   "metadata": {},
   "outputs": [
    {
     "data": {
      "text/plain": [
       "EUR    323919\n",
       "USD        23\n",
       "Name: Currency, dtype: int64"
      ]
     },
     "execution_count": 6,
     "metadata": {},
     "output_type": "execute_result"
    }
   ],
   "source": [
    "df.Currency.value_counts()"
   ]
  },
  {
   "cell_type": "code",
   "execution_count": null,
   "metadata": {},
   "outputs": [],
   "source": [
    "len(df.SecurityID.unique())"
   ]
  },
  {
   "cell_type": "markdown",
   "metadata": {},
   "source": [
    "---\n",
    "## Clean the data "
   ]
  },
  {
   "cell_type": "code",
   "execution_count": 8,
   "metadata": {},
   "outputs": [],
   "source": [
    "df['dt_date'] = df.Date.astype(np.datetime64)"
   ]
  },
  {
   "cell_type": "code",
   "execution_count": 9,
   "metadata": {},
   "outputs": [],
   "source": [
    "df['dt_time'] = (df.Date +' '+ df.Time).astype(np.datetime64)"
   ]
  },
  {
   "cell_type": "code",
   "execution_count": 10,
   "metadata": {},
   "outputs": [],
   "source": [
    "df.SecurityType = df.SecurityType.astype('category')"
   ]
  },
  {
   "cell_type": "code",
   "execution_count": 11,
   "metadata": {},
   "outputs": [],
   "source": [
    "df.drop(columns=['Currency', 'SecurityID','ISIN','SecurityDesc'], inplace=True)"
   ]
  },
  {
   "cell_type": "code",
   "execution_count": null,
   "metadata": {},
   "outputs": [],
   "source": [
    "df.info ()"
   ]
  },
  {
   "cell_type": "code",
   "execution_count": null,
   "metadata": {},
   "outputs": [],
   "source": [
    "df.sample(5)"
   ]
  },
  {
   "cell_type": "markdown",
   "metadata": {},
   "source": [
    "---\n",
    "## Engineer a feature set"
   ]
  },
  {
   "cell_type": "code",
   "execution_count": 12,
   "metadata": {},
   "outputs": [],
   "source": [
    "# Mark data points with trades outside of opening and closing hours\n",
    "date = '2017-10-16'\n",
    "time_fmt = \"%Y-%m-%d%H:%M\"\n",
    "opening_hours = datetime.strptime(date +\"08:00\", time_fmt)\n",
    "closing_hours = datetime.strptime(date +\"20:00\", time_fmt)\n",
    "\n",
    "df['in_trading_hours'] = 0\n",
    "df.loc[(df.dt_time > opening_hours) & (df.dt_time <= closing_hours), 'in_trading_hours'] = 1"
   ]
  },
  {
   "cell_type": "code",
   "execution_count": 13,
   "metadata": {},
   "outputs": [],
   "source": [
    "df['pct_change'] = (df.EndPrice - df.StartPrice)/df.StartPrice"
   ]
  },
  {
   "cell_type": "code",
   "execution_count": 14,
   "metadata": {},
   "outputs": [],
   "source": [
    "df['day_of_week'] = df.dt_date.dt.weekday"
   ]
  },
  {
   "cell_type": "code",
   "execution_count": 15,
   "metadata": {},
   "outputs": [],
   "source": [
    "df['min_of_day'] = df.dt_time.dt.hour*60 + df.dt_time.dt.minute"
   ]
  },
  {
   "cell_type": "code",
   "execution_count": 16,
   "metadata": {},
   "outputs": [],
   "source": [
    "minutes_in_day = 24*60\n",
    "\n",
    "df['sin_time'] = np.sin(2*np.pi*df.min_of_day/minutes_in_day)\n",
    "df['cos_time'] = np.cos(2*np.pi*df.min_of_day/minutes_in_day)"
   ]
  },
  {
   "cell_type": "code",
   "execution_count": 17,
   "metadata": {},
   "outputs": [],
   "source": [
    "df['movement'] = 0\n",
    "df.loc[(df['pct_change'] > 0), 'movement'] = 1\n",
    "df.loc[(df['pct_change'] < 0), 'movement'] = -1\n",
    "df['next_movement'] = 0\n",
    "df['next_movement'] = df.movement.shift (-1)"
   ]
  },
  {
   "cell_type": "markdown",
   "metadata": {},
   "source": [
    "## Explore the engineered data set"
   ]
  },
  {
   "cell_type": "code",
   "execution_count": 18,
   "metadata": {},
   "outputs": [
    {
     "data": {
      "text/html": [
       "<div>\n",
       "<style scoped>\n",
       "    .dataframe tbody tr th:only-of-type {\n",
       "        vertical-align: middle;\n",
       "    }\n",
       "\n",
       "    .dataframe tbody tr th {\n",
       "        vertical-align: top;\n",
       "    }\n",
       "\n",
       "    .dataframe thead th {\n",
       "        text-align: right;\n",
       "    }\n",
       "</style>\n",
       "<table border=\"1\" class=\"dataframe\">\n",
       "  <thead>\n",
       "    <tr style=\"text-align: right;\">\n",
       "      <th></th>\n",
       "      <th>Mnemonic</th>\n",
       "      <th>SecurityType</th>\n",
       "      <th>Date</th>\n",
       "      <th>Time</th>\n",
       "      <th>StartPrice</th>\n",
       "      <th>MaxPrice</th>\n",
       "      <th>MinPrice</th>\n",
       "      <th>EndPrice</th>\n",
       "      <th>TradedVolume</th>\n",
       "      <th>NumberOfTrades</th>\n",
       "      <th>dt_date</th>\n",
       "      <th>dt_time</th>\n",
       "      <th>in_trading_hours</th>\n",
       "      <th>pct_change</th>\n",
       "      <th>day_of_week</th>\n",
       "      <th>min_of_day</th>\n",
       "      <th>sin_time</th>\n",
       "      <th>cos_time</th>\n",
       "      <th>movement</th>\n",
       "      <th>next_movement</th>\n",
       "    </tr>\n",
       "  </thead>\n",
       "  <tbody>\n",
       "    <tr>\n",
       "      <th>320819</th>\n",
       "      <td>OSR</td>\n",
       "      <td>Common stock</td>\n",
       "      <td>2017-10-20</td>\n",
       "      <td>14:40</td>\n",
       "      <td>63.490</td>\n",
       "      <td>63.490</td>\n",
       "      <td>63.490</td>\n",
       "      <td>63.490</td>\n",
       "      <td>456</td>\n",
       "      <td>2</td>\n",
       "      <td>2017-10-20</td>\n",
       "      <td>2017-10-20 14:40:00</td>\n",
       "      <td>0</td>\n",
       "      <td>0.000000</td>\n",
       "      <td>4</td>\n",
       "      <td>880</td>\n",
       "      <td>-0.642788</td>\n",
       "      <td>-0.766044</td>\n",
       "      <td>0</td>\n",
       "      <td>0.0</td>\n",
       "    </tr>\n",
       "    <tr>\n",
       "      <th>247027</th>\n",
       "      <td>KCO</td>\n",
       "      <td>Common stock</td>\n",
       "      <td>2017-10-19</td>\n",
       "      <td>08:23</td>\n",
       "      <td>10.535</td>\n",
       "      <td>10.535</td>\n",
       "      <td>10.535</td>\n",
       "      <td>10.535</td>\n",
       "      <td>421</td>\n",
       "      <td>3</td>\n",
       "      <td>2017-10-19</td>\n",
       "      <td>2017-10-19 08:23:00</td>\n",
       "      <td>0</td>\n",
       "      <td>0.000000</td>\n",
       "      <td>3</td>\n",
       "      <td>503</td>\n",
       "      <td>0.811574</td>\n",
       "      <td>-0.584250</td>\n",
       "      <td>0</td>\n",
       "      <td>-1.0</td>\n",
       "    </tr>\n",
       "    <tr>\n",
       "      <th>264587</th>\n",
       "      <td>G1A</td>\n",
       "      <td>Common stock</td>\n",
       "      <td>2017-10-20</td>\n",
       "      <td>08:41</td>\n",
       "      <td>40.425</td>\n",
       "      <td>40.425</td>\n",
       "      <td>40.360</td>\n",
       "      <td>40.390</td>\n",
       "      <td>2347</td>\n",
       "      <td>18</td>\n",
       "      <td>2017-10-20</td>\n",
       "      <td>2017-10-20 08:41:00</td>\n",
       "      <td>0</td>\n",
       "      <td>-0.000866</td>\n",
       "      <td>4</td>\n",
       "      <td>521</td>\n",
       "      <td>0.763232</td>\n",
       "      <td>-0.646124</td>\n",
       "      <td>-1</td>\n",
       "      <td>0.0</td>\n",
       "    </tr>\n",
       "    <tr>\n",
       "      <th>113037</th>\n",
       "      <td>ARL</td>\n",
       "      <td>Common stock</td>\n",
       "      <td>2017-10-17</td>\n",
       "      <td>09:05</td>\n",
       "      <td>35.130</td>\n",
       "      <td>35.150</td>\n",
       "      <td>35.130</td>\n",
       "      <td>35.150</td>\n",
       "      <td>332</td>\n",
       "      <td>3</td>\n",
       "      <td>2017-10-17</td>\n",
       "      <td>2017-10-17 09:05:00</td>\n",
       "      <td>0</td>\n",
       "      <td>0.000569</td>\n",
       "      <td>1</td>\n",
       "      <td>545</td>\n",
       "      <td>0.691513</td>\n",
       "      <td>-0.722364</td>\n",
       "      <td>1</td>\n",
       "      <td>0.0</td>\n",
       "    </tr>\n",
       "    <tr>\n",
       "      <th>319860</th>\n",
       "      <td>LINU</td>\n",
       "      <td>Common stock</td>\n",
       "      <td>2017-10-20</td>\n",
       "      <td>14:33</td>\n",
       "      <td>176.950</td>\n",
       "      <td>177.050</td>\n",
       "      <td>176.950</td>\n",
       "      <td>177.050</td>\n",
       "      <td>288</td>\n",
       "      <td>5</td>\n",
       "      <td>2017-10-20</td>\n",
       "      <td>2017-10-20 14:33:00</td>\n",
       "      <td>0</td>\n",
       "      <td>0.000565</td>\n",
       "      <td>4</td>\n",
       "      <td>873</td>\n",
       "      <td>-0.619094</td>\n",
       "      <td>-0.785317</td>\n",
       "      <td>1</td>\n",
       "      <td>0.0</td>\n",
       "    </tr>\n",
       "  </tbody>\n",
       "</table>\n",
       "</div>"
      ],
      "text/plain": [
       "       Mnemonic  SecurityType        Date   Time  StartPrice  MaxPrice  \\\n",
       "320819      OSR  Common stock  2017-10-20  14:40      63.490    63.490   \n",
       "247027      KCO  Common stock  2017-10-19  08:23      10.535    10.535   \n",
       "264587      G1A  Common stock  2017-10-20  08:41      40.425    40.425   \n",
       "113037      ARL  Common stock  2017-10-17  09:05      35.130    35.150   \n",
       "319860     LINU  Common stock  2017-10-20  14:33     176.950   177.050   \n",
       "\n",
       "        MinPrice  EndPrice  TradedVolume  NumberOfTrades    dt_date  \\\n",
       "320819    63.490    63.490           456               2 2017-10-20   \n",
       "247027    10.535    10.535           421               3 2017-10-19   \n",
       "264587    40.360    40.390          2347              18 2017-10-20   \n",
       "113037    35.130    35.150           332               3 2017-10-17   \n",
       "319860   176.950   177.050           288               5 2017-10-20   \n",
       "\n",
       "                   dt_time  in_trading_hours  pct_change  day_of_week  \\\n",
       "320819 2017-10-20 14:40:00                 0    0.000000            4   \n",
       "247027 2017-10-19 08:23:00                 0    0.000000            3   \n",
       "264587 2017-10-20 08:41:00                 0   -0.000866            4   \n",
       "113037 2017-10-17 09:05:00                 0    0.000569            1   \n",
       "319860 2017-10-20 14:33:00                 0    0.000565            4   \n",
       "\n",
       "        min_of_day  sin_time  cos_time  movement  next_movement  \n",
       "320819         880 -0.642788 -0.766044         0            0.0  \n",
       "247027         503  0.811574 -0.584250         0           -1.0  \n",
       "264587         521  0.763232 -0.646124        -1            0.0  \n",
       "113037         545  0.691513 -0.722364         1            0.0  \n",
       "319860         873 -0.619094 -0.785317         1            0.0  "
      ]
     },
     "execution_count": 18,
     "metadata": {},
     "output_type": "execute_result"
    }
   ],
   "source": [
    "df.sample (5)"
   ]
  },
  {
   "cell_type": "code",
   "execution_count": 19,
   "metadata": {},
   "outputs": [
    {
     "data": {
      "text/plain": [
       " 0.0    186381\n",
       "-1.0     69824\n",
       " 1.0     67736\n",
       "Name: next_movement, dtype: int64"
      ]
     },
     "execution_count": 19,
     "metadata": {},
     "output_type": "execute_result"
    }
   ],
   "source": [
    "df.next_movement.value_counts()"
   ]
  },
  {
   "cell_type": "code",
   "execution_count": 20,
   "metadata": {},
   "outputs": [
    {
     "data": {
      "text/html": [
       "<div>\n",
       "<style scoped>\n",
       "    .dataframe tbody tr th:only-of-type {\n",
       "        vertical-align: middle;\n",
       "    }\n",
       "\n",
       "    .dataframe tbody tr th {\n",
       "        vertical-align: top;\n",
       "    }\n",
       "\n",
       "    .dataframe thead th {\n",
       "        text-align: right;\n",
       "    }\n",
       "</style>\n",
       "<table border=\"1\" class=\"dataframe\">\n",
       "  <thead>\n",
       "    <tr style=\"text-align: right;\">\n",
       "      <th></th>\n",
       "      <th>next_movement</th>\n",
       "    </tr>\n",
       "  </thead>\n",
       "  <tbody>\n",
       "    <tr>\n",
       "      <th>StartPrice</th>\n",
       "      <td>0.000433</td>\n",
       "    </tr>\n",
       "    <tr>\n",
       "      <th>MaxPrice</th>\n",
       "      <td>0.000437</td>\n",
       "    </tr>\n",
       "    <tr>\n",
       "      <th>MinPrice</th>\n",
       "      <td>0.000440</td>\n",
       "    </tr>\n",
       "    <tr>\n",
       "      <th>EndPrice</th>\n",
       "      <td>0.000444</td>\n",
       "    </tr>\n",
       "    <tr>\n",
       "      <th>TradedVolume</th>\n",
       "      <td>-0.001360</td>\n",
       "    </tr>\n",
       "    <tr>\n",
       "      <th>NumberOfTrades</th>\n",
       "      <td>0.000666</td>\n",
       "    </tr>\n",
       "    <tr>\n",
       "      <th>in_trading_hours</th>\n",
       "      <td>0.003202</td>\n",
       "    </tr>\n",
       "    <tr>\n",
       "      <th>pct_change</th>\n",
       "      <td>0.010498</td>\n",
       "    </tr>\n",
       "    <tr>\n",
       "      <th>day_of_week</th>\n",
       "      <td>-0.003230</td>\n",
       "    </tr>\n",
       "    <tr>\n",
       "      <th>min_of_day</th>\n",
       "      <td>0.005476</td>\n",
       "    </tr>\n",
       "    <tr>\n",
       "      <th>sin_time</th>\n",
       "      <td>-0.004986</td>\n",
       "    </tr>\n",
       "    <tr>\n",
       "      <th>cos_time</th>\n",
       "      <td>-0.006512</td>\n",
       "    </tr>\n",
       "    <tr>\n",
       "      <th>movement</th>\n",
       "      <td>0.027980</td>\n",
       "    </tr>\n",
       "    <tr>\n",
       "      <th>next_movement</th>\n",
       "      <td>1.000000</td>\n",
       "    </tr>\n",
       "  </tbody>\n",
       "</table>\n",
       "</div>"
      ],
      "text/plain": [
       "                  next_movement\n",
       "StartPrice             0.000433\n",
       "MaxPrice               0.000437\n",
       "MinPrice               0.000440\n",
       "EndPrice               0.000444\n",
       "TradedVolume          -0.001360\n",
       "NumberOfTrades         0.000666\n",
       "in_trading_hours       0.003202\n",
       "pct_change             0.010498\n",
       "day_of_week           -0.003230\n",
       "min_of_day             0.005476\n",
       "sin_time              -0.004986\n",
       "cos_time              -0.006512\n",
       "movement               0.027980\n",
       "next_movement          1.000000"
      ]
     },
     "execution_count": 20,
     "metadata": {},
     "output_type": "execute_result"
    }
   ],
   "source": [
    "df.corr()[['next_movement']]"
   ]
  },
  {
   "cell_type": "code",
   "execution_count": 21,
   "metadata": {},
   "outputs": [
    {
     "data": {
      "text/html": [
       "<div>\n",
       "<style scoped>\n",
       "    .dataframe tbody tr th:only-of-type {\n",
       "        vertical-align: middle;\n",
       "    }\n",
       "\n",
       "    .dataframe tbody tr th {\n",
       "        vertical-align: top;\n",
       "    }\n",
       "\n",
       "    .dataframe thead th {\n",
       "        text-align: right;\n",
       "    }\n",
       "</style>\n",
       "<table border=\"1\" class=\"dataframe\">\n",
       "  <thead>\n",
       "    <tr style=\"text-align: right;\">\n",
       "      <th></th>\n",
       "      <th>StartPrice</th>\n",
       "      <th>MaxPrice</th>\n",
       "      <th>MinPrice</th>\n",
       "      <th>EndPrice</th>\n",
       "      <th>TradedVolume</th>\n",
       "      <th>NumberOfTrades</th>\n",
       "      <th>in_trading_hours</th>\n",
       "      <th>pct_change</th>\n",
       "      <th>day_of_week</th>\n",
       "      <th>min_of_day</th>\n",
       "      <th>sin_time</th>\n",
       "      <th>cos_time</th>\n",
       "      <th>movement</th>\n",
       "      <th>next_movement</th>\n",
       "    </tr>\n",
       "  </thead>\n",
       "  <tbody>\n",
       "    <tr>\n",
       "      <th>StartPrice</th>\n",
       "      <td>1.000000</td>\n",
       "      <td>1.000000</td>\n",
       "      <td>0.999999</td>\n",
       "      <td>0.999999</td>\n",
       "      <td>-0.088841</td>\n",
       "      <td>0.005808</td>\n",
       "      <td>0.002204</td>\n",
       "      <td>0.001392</td>\n",
       "      <td>0.000455</td>\n",
       "      <td>-0.001811</td>\n",
       "      <td>0.001384</td>\n",
       "      <td>-0.002420</td>\n",
       "      <td>0.000100</td>\n",
       "      <td>0.000433</td>\n",
       "    </tr>\n",
       "    <tr>\n",
       "      <th>MaxPrice</th>\n",
       "      <td>1.000000</td>\n",
       "      <td>1.000000</td>\n",
       "      <td>0.999999</td>\n",
       "      <td>1.000000</td>\n",
       "      <td>-0.088822</td>\n",
       "      <td>0.005983</td>\n",
       "      <td>0.002184</td>\n",
       "      <td>0.001631</td>\n",
       "      <td>0.000468</td>\n",
       "      <td>-0.001834</td>\n",
       "      <td>0.001403</td>\n",
       "      <td>-0.002377</td>\n",
       "      <td>0.000280</td>\n",
       "      <td>0.000437</td>\n",
       "    </tr>\n",
       "    <tr>\n",
       "      <th>MinPrice</th>\n",
       "      <td>0.999999</td>\n",
       "      <td>0.999999</td>\n",
       "      <td>1.000000</td>\n",
       "      <td>1.000000</td>\n",
       "      <td>-0.088864</td>\n",
       "      <td>0.005601</td>\n",
       "      <td>0.002223</td>\n",
       "      <td>0.001768</td>\n",
       "      <td>0.000440</td>\n",
       "      <td>-0.001784</td>\n",
       "      <td>0.001360</td>\n",
       "      <td>-0.002468</td>\n",
       "      <td>0.000300</td>\n",
       "      <td>0.000440</td>\n",
       "    </tr>\n",
       "    <tr>\n",
       "      <th>EndPrice</th>\n",
       "      <td>0.999999</td>\n",
       "      <td>1.000000</td>\n",
       "      <td>1.000000</td>\n",
       "      <td>1.000000</td>\n",
       "      <td>-0.088844</td>\n",
       "      <td>0.005787</td>\n",
       "      <td>0.002204</td>\n",
       "      <td>0.001976</td>\n",
       "      <td>0.000453</td>\n",
       "      <td>-0.001806</td>\n",
       "      <td>0.001379</td>\n",
       "      <td>-0.002425</td>\n",
       "      <td>0.000465</td>\n",
       "      <td>0.000444</td>\n",
       "    </tr>\n",
       "    <tr>\n",
       "      <th>TradedVolume</th>\n",
       "      <td>-0.088841</td>\n",
       "      <td>-0.088822</td>\n",
       "      <td>-0.088864</td>\n",
       "      <td>-0.088844</td>\n",
       "      <td>1.000000</td>\n",
       "      <td>0.345626</td>\n",
       "      <td>-0.016217</td>\n",
       "      <td>-0.021525</td>\n",
       "      <td>0.017288</td>\n",
       "      <td>-0.017295</td>\n",
       "      <td>0.014958</td>\n",
       "      <td>0.038552</td>\n",
       "      <td>-0.003111</td>\n",
       "      <td>-0.001360</td>\n",
       "    </tr>\n",
       "    <tr>\n",
       "      <th>NumberOfTrades</th>\n",
       "      <td>0.005808</td>\n",
       "      <td>0.005983</td>\n",
       "      <td>0.005601</td>\n",
       "      <td>0.005787</td>\n",
       "      <td>0.345626</td>\n",
       "      <td>1.000000</td>\n",
       "      <td>-0.048057</td>\n",
       "      <td>-0.030841</td>\n",
       "      <td>0.054896</td>\n",
       "      <td>-0.034875</td>\n",
       "      <td>0.028009</td>\n",
       "      <td>0.096449</td>\n",
       "      <td>-0.008283</td>\n",
       "      <td>0.000666</td>\n",
       "    </tr>\n",
       "    <tr>\n",
       "      <th>in_trading_hours</th>\n",
       "      <td>0.002204</td>\n",
       "      <td>0.002184</td>\n",
       "      <td>0.002223</td>\n",
       "      <td>0.002204</td>\n",
       "      <td>-0.016217</td>\n",
       "      <td>-0.048057</td>\n",
       "      <td>1.000000</td>\n",
       "      <td>0.003370</td>\n",
       "      <td>-0.652452</td>\n",
       "      <td>0.094328</td>\n",
       "      <td>-0.084972</td>\n",
       "      <td>-0.122648</td>\n",
       "      <td>0.003190</td>\n",
       "      <td>0.003202</td>\n",
       "    </tr>\n",
       "    <tr>\n",
       "      <th>pct_change</th>\n",
       "      <td>0.001392</td>\n",
       "      <td>0.001631</td>\n",
       "      <td>0.001768</td>\n",
       "      <td>0.001976</td>\n",
       "      <td>-0.021525</td>\n",
       "      <td>-0.030841</td>\n",
       "      <td>0.003370</td>\n",
       "      <td>1.000000</td>\n",
       "      <td>-0.002443</td>\n",
       "      <td>0.003106</td>\n",
       "      <td>-0.002627</td>\n",
       "      <td>-0.003353</td>\n",
       "      <td>0.424142</td>\n",
       "      <td>0.010498</td>\n",
       "    </tr>\n",
       "    <tr>\n",
       "      <th>day_of_week</th>\n",
       "      <td>0.000455</td>\n",
       "      <td>0.000468</td>\n",
       "      <td>0.000440</td>\n",
       "      <td>0.000453</td>\n",
       "      <td>0.017288</td>\n",
       "      <td>0.054896</td>\n",
       "      <td>-0.652452</td>\n",
       "      <td>-0.002443</td>\n",
       "      <td>1.000000</td>\n",
       "      <td>0.002365</td>\n",
       "      <td>-0.002150</td>\n",
       "      <td>-0.007327</td>\n",
       "      <td>-0.003226</td>\n",
       "      <td>-0.003230</td>\n",
       "    </tr>\n",
       "    <tr>\n",
       "      <th>min_of_day</th>\n",
       "      <td>-0.001811</td>\n",
       "      <td>-0.001834</td>\n",
       "      <td>-0.001784</td>\n",
       "      <td>-0.001806</td>\n",
       "      <td>-0.017295</td>\n",
       "      <td>-0.034875</td>\n",
       "      <td>0.094328</td>\n",
       "      <td>0.003106</td>\n",
       "      <td>0.002365</td>\n",
       "      <td>1.000000</td>\n",
       "      <td>-0.996917</td>\n",
       "      <td>-0.514232</td>\n",
       "      <td>0.005451</td>\n",
       "      <td>0.005476</td>\n",
       "    </tr>\n",
       "    <tr>\n",
       "      <th>sin_time</th>\n",
       "      <td>0.001384</td>\n",
       "      <td>0.001403</td>\n",
       "      <td>0.001360</td>\n",
       "      <td>0.001379</td>\n",
       "      <td>0.014958</td>\n",
       "      <td>0.028009</td>\n",
       "      <td>-0.084972</td>\n",
       "      <td>-0.002627</td>\n",
       "      <td>-0.002150</td>\n",
       "      <td>-0.996917</td>\n",
       "      <td>1.000000</td>\n",
       "      <td>0.469090</td>\n",
       "      <td>-0.004975</td>\n",
       "      <td>-0.004986</td>\n",
       "    </tr>\n",
       "    <tr>\n",
       "      <th>cos_time</th>\n",
       "      <td>-0.002420</td>\n",
       "      <td>-0.002377</td>\n",
       "      <td>-0.002468</td>\n",
       "      <td>-0.002425</td>\n",
       "      <td>0.038552</td>\n",
       "      <td>0.096449</td>\n",
       "      <td>-0.122648</td>\n",
       "      <td>-0.003353</td>\n",
       "      <td>-0.007327</td>\n",
       "      <td>-0.514232</td>\n",
       "      <td>0.469090</td>\n",
       "      <td>1.000000</td>\n",
       "      <td>-0.006572</td>\n",
       "      <td>-0.006512</td>\n",
       "    </tr>\n",
       "    <tr>\n",
       "      <th>movement</th>\n",
       "      <td>0.000100</td>\n",
       "      <td>0.000280</td>\n",
       "      <td>0.000300</td>\n",
       "      <td>0.000465</td>\n",
       "      <td>-0.003111</td>\n",
       "      <td>-0.008283</td>\n",
       "      <td>0.003190</td>\n",
       "      <td>0.424142</td>\n",
       "      <td>-0.003226</td>\n",
       "      <td>0.005451</td>\n",
       "      <td>-0.004975</td>\n",
       "      <td>-0.006572</td>\n",
       "      <td>1.000000</td>\n",
       "      <td>0.027980</td>\n",
       "    </tr>\n",
       "    <tr>\n",
       "      <th>next_movement</th>\n",
       "      <td>0.000433</td>\n",
       "      <td>0.000437</td>\n",
       "      <td>0.000440</td>\n",
       "      <td>0.000444</td>\n",
       "      <td>-0.001360</td>\n",
       "      <td>0.000666</td>\n",
       "      <td>0.003202</td>\n",
       "      <td>0.010498</td>\n",
       "      <td>-0.003230</td>\n",
       "      <td>0.005476</td>\n",
       "      <td>-0.004986</td>\n",
       "      <td>-0.006512</td>\n",
       "      <td>0.027980</td>\n",
       "      <td>1.000000</td>\n",
       "    </tr>\n",
       "  </tbody>\n",
       "</table>\n",
       "</div>"
      ],
      "text/plain": [
       "                  StartPrice  MaxPrice  MinPrice  EndPrice  TradedVolume  \\\n",
       "StartPrice          1.000000  1.000000  0.999999  0.999999     -0.088841   \n",
       "MaxPrice            1.000000  1.000000  0.999999  1.000000     -0.088822   \n",
       "MinPrice            0.999999  0.999999  1.000000  1.000000     -0.088864   \n",
       "EndPrice            0.999999  1.000000  1.000000  1.000000     -0.088844   \n",
       "TradedVolume       -0.088841 -0.088822 -0.088864 -0.088844      1.000000   \n",
       "NumberOfTrades      0.005808  0.005983  0.005601  0.005787      0.345626   \n",
       "in_trading_hours    0.002204  0.002184  0.002223  0.002204     -0.016217   \n",
       "pct_change          0.001392  0.001631  0.001768  0.001976     -0.021525   \n",
       "day_of_week         0.000455  0.000468  0.000440  0.000453      0.017288   \n",
       "min_of_day         -0.001811 -0.001834 -0.001784 -0.001806     -0.017295   \n",
       "sin_time            0.001384  0.001403  0.001360  0.001379      0.014958   \n",
       "cos_time           -0.002420 -0.002377 -0.002468 -0.002425      0.038552   \n",
       "movement            0.000100  0.000280  0.000300  0.000465     -0.003111   \n",
       "next_movement       0.000433  0.000437  0.000440  0.000444     -0.001360   \n",
       "\n",
       "                  NumberOfTrades  in_trading_hours  pct_change  day_of_week  \\\n",
       "StartPrice              0.005808          0.002204    0.001392     0.000455   \n",
       "MaxPrice                0.005983          0.002184    0.001631     0.000468   \n",
       "MinPrice                0.005601          0.002223    0.001768     0.000440   \n",
       "EndPrice                0.005787          0.002204    0.001976     0.000453   \n",
       "TradedVolume            0.345626         -0.016217   -0.021525     0.017288   \n",
       "NumberOfTrades          1.000000         -0.048057   -0.030841     0.054896   \n",
       "in_trading_hours       -0.048057          1.000000    0.003370    -0.652452   \n",
       "pct_change             -0.030841          0.003370    1.000000    -0.002443   \n",
       "day_of_week             0.054896         -0.652452   -0.002443     1.000000   \n",
       "min_of_day             -0.034875          0.094328    0.003106     0.002365   \n",
       "sin_time                0.028009         -0.084972   -0.002627    -0.002150   \n",
       "cos_time                0.096449         -0.122648   -0.003353    -0.007327   \n",
       "movement               -0.008283          0.003190    0.424142    -0.003226   \n",
       "next_movement           0.000666          0.003202    0.010498    -0.003230   \n",
       "\n",
       "                  min_of_day  sin_time  cos_time  movement  next_movement  \n",
       "StartPrice         -0.001811  0.001384 -0.002420  0.000100       0.000433  \n",
       "MaxPrice           -0.001834  0.001403 -0.002377  0.000280       0.000437  \n",
       "MinPrice           -0.001784  0.001360 -0.002468  0.000300       0.000440  \n",
       "EndPrice           -0.001806  0.001379 -0.002425  0.000465       0.000444  \n",
       "TradedVolume       -0.017295  0.014958  0.038552 -0.003111      -0.001360  \n",
       "NumberOfTrades     -0.034875  0.028009  0.096449 -0.008283       0.000666  \n",
       "in_trading_hours    0.094328 -0.084972 -0.122648  0.003190       0.003202  \n",
       "pct_change          0.003106 -0.002627 -0.003353  0.424142       0.010498  \n",
       "day_of_week         0.002365 -0.002150 -0.007327 -0.003226      -0.003230  \n",
       "min_of_day          1.000000 -0.996917 -0.514232  0.005451       0.005476  \n",
       "sin_time           -0.996917  1.000000  0.469090 -0.004975      -0.004986  \n",
       "cos_time           -0.514232  0.469090  1.000000 -0.006572      -0.006512  \n",
       "movement            0.005451 -0.004975 -0.006572  1.000000       0.027980  \n",
       "next_movement       0.005476 -0.004986 -0.006512  0.027980       1.000000  "
      ]
     },
     "execution_count": 21,
     "metadata": {},
     "output_type": "execute_result"
    }
   ],
   "source": [
    "pd.options.display.max_columns = 35\n",
    "df.corr ()"
   ]
  },
  {
   "cell_type": "markdown",
   "metadata": {},
   "source": [
    "---\n",
    "## Quick test using sklearn"
   ]
  },
  {
   "cell_type": "code",
   "execution_count": 28,
   "metadata": {},
   "outputs": [],
   "source": [
    "from sklearn.ensemble import GradientBoostingClassifier\n",
    "gbc = GradientBoostingClassifier(subsample=0.3, max_depth=12, verbose=1)"
   ]
  },
  {
   "cell_type": "code",
   "execution_count": 29,
   "metadata": {},
   "outputs": [],
   "source": [
    "from sklearn.model_selection import train_test_split\n",
    "\n",
    "data_X = pd.get_dummies(df.drop(columns=['Mnemonic', 'Date', 'Time', 'dt_date', 'dt_time', 'next_movement'], axis = 1)) \n",
    "data_Y = df.next_movement\n",
    "data_Y.fillna(0, inplace=True)\n",
    "train_X, test_X, train_Y, test_Y = train_test_split (data_X, data_Y, test_size=0.2)\n",
    "\n",
    "sample_weights = np.ones(train_X.shape[0])\n",
    "\n",
    "def report (i, estimator, local_vals):\n",
    "    print (\"iteration {}: complete\".format (i))"
   ]
  },
  {
   "cell_type": "code",
   "execution_count": null,
   "metadata": {},
   "outputs": [
    {
     "name": "stdout",
     "output_type": "stream",
     "text": [
      "      Iter       Train Loss      OOB Improve   Remaining Time \n",
      "         1       77559.5461        2694.7103          188.69m\n",
      "iteration 0: complete\n",
      "         2       76535.9375        2184.7404          150.62m\n",
      "iteration 1: complete\n",
      "         3       75521.0581        1721.7744          134.19m\n",
      "iteration 2: complete\n"
     ]
    }
   ],
   "source": [
    "gbc.fit(train_X.values, train_Y.values, sample_weight=sample_weights, monitor=report)"
   ]
  },
  {
   "cell_type": "code",
   "execution_count": null,
   "metadata": {},
   "outputs": [],
   "source": [
    "pred = gbc.predict(test_X)"
   ]
  },
  {
   "cell_type": "code",
   "execution_count": null,
   "metadata": {},
   "outputs": [],
   "source": [
    "pred[:5]"
   ]
  },
  {
   "cell_type": "code",
   "execution_count": null,
   "metadata": {},
   "outputs": [],
   "source": [
    "import itertools\n",
    "def plot_confusion_matrix(cm, classes,\n",
    "                          normalize=False,\n",
    "                          title='Confusion matrix',\n",
    "                          cmap=plt.cm.Blues):\n",
    "    \"\"\"\n",
    "    This function prints and plots the confusion matrix.\n",
    "    Normalization can be applied by setting `normalize=True`.\n",
    "    \"\"\"\n",
    "    if normalize:\n",
    "        cm = cm.astype('float') / cm.sum(axis=1)[:, np.newaxis]\n",
    "        print(\"Normalized confusion matrix\")\n",
    "    else:\n",
    "        print('Confusion matrix, without normalization')\n",
    "\n",
    "    print(cm)\n",
    "\n",
    "    plt.imshow(cm, interpolation='nearest', cmap=cmap)\n",
    "    plt.title(title)\n",
    "    plt.colorbar()\n",
    "    tick_marks = np.arange(len(classes))\n",
    "    plt.xticks(tick_marks, classes, rotation=45)\n",
    "    plt.yticks(tick_marks, classes)\n",
    "\n",
    "    fmt = '.2f' if normalize else 'd'\n",
    "    thresh = cm.max() / 2.\n",
    "    for i, j in itertools.product(range(cm.shape[0]), range(cm.shape[1])):\n",
    "        plt.text(j, i, format(cm[i, j], fmt),\n",
    "                 horizontalalignment=\"center\",\n",
    "                 color=\"white\" if cm[i, j] > thresh else \"black\")\n",
    "\n",
    "    plt.ylabel('True label')\n",
    "    plt.xlabel('Predicted label')\n",
    "    plt.tight_layout()"
   ]
  },
  {
   "cell_type": "code",
   "execution_count": null,
   "metadata": {},
   "outputs": [],
   "source": [
    "from sklearn.metrics import confusion_matrix\n",
    "cfm = confusion_matrix(test_Y, pred)\n",
    "cfm"
   ]
  },
  {
   "cell_type": "code",
   "execution_count": null,
   "metadata": {},
   "outputs": [],
   "source": [
    "plot_confusion_matrix (cfm, classes=['down', 'stay', 'up'], normalize=True)"
   ]
  },
  {
   "cell_type": "code",
   "execution_count": null,
   "metadata": {},
   "outputs": [],
   "source": [
    "!ls -lh work/ddata.csv"
   ]
  },
  {
   "cell_type": "code",
   "execution_count": null,
   "metadata": {},
   "outputs": [],
   "source": [
    "!cp work/ddata.csv deutsche-boerse-xetra-pds_week39.csv"
   ]
  }
 ],
 "metadata": {
  "kernelspec": {
   "display_name": "Python 3",
   "language": "python",
   "name": "python3"
  },
  "language_info": {
   "codemirror_mode": {
    "name": "ipython",
    "version": 3
   },
   "file_extension": ".py",
   "mimetype": "text/x-python",
   "name": "python",
   "nbconvert_exporter": "python",
   "pygments_lexer": "ipython3",
   "version": "3.6.6"
  }
 },
 "nbformat": 4,
 "nbformat_minor": 2
}

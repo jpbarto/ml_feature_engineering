{
 "cells": [
  {
   "cell_type": "markdown",
   "metadata": {},
   "source": [
    "# Feature engineering demonstration"
   ]
  },
  {
   "cell_type": "markdown",
   "metadata": {},
   "source": [
    "---\n",
    "## Load data from CSV"
   ]
  },
  {
   "cell_type": "markdown",
   "metadata": {},
   "source": [
    "Let's check the directory for our data file"
   ]
  },
  {
   "cell_type": "code",
   "execution_count": 38,
   "metadata": {},
   "outputs": [
    {
     "name": "stdout",
     "output_type": "stream",
     "text": [
      " deutsche-boerse-xetra-pds_2017-10-16.csv   LICENSE\r\n",
      " deutsche-boerse-xetra-pds_week39.csv\t    README.md\r\n",
      " environment.yml\t\t\t    Untitled.ipynb\r\n",
      "'Feature Engineering Demonstration.ipynb'\r\n"
     ]
    }
   ],
   "source": [
    "!ls"
   ]
  },
  {
   "cell_type": "markdown",
   "metadata": {},
   "source": [
    "Import our Python libraries for data exploration and feature engineering"
   ]
  },
  {
   "cell_type": "code",
   "execution_count": 39,
   "metadata": {},
   "outputs": [],
   "source": [
    "# Introduce imports which we will use next\n",
    "import pandas as pd\n",
    "import numpy as np\n",
    "from datetime import datetime\n",
    "import matplotlib as mpl\n",
    "import matplotlib.pyplot as plt\n",
    "%matplotlib inline\n",
    "import seaborn as sns\n",
    "sns.set(color_codes=True)"
   ]
  },
  {
   "cell_type": "markdown",
   "metadata": {},
   "source": [
    "Read data into a Pandas DataFrame from our CSV"
   ]
  },
  {
   "cell_type": "code",
   "execution_count": 40,
   "metadata": {},
   "outputs": [],
   "source": [
    "df = pd.read_csv ('deutsche-boerse-xetra-pds_week39.csv')"
   ]
  },
  {
   "cell_type": "markdown",
   "metadata": {},
   "source": [
    "---\n",
    "## Explore the data"
   ]
  },
  {
   "cell_type": "markdown",
   "metadata": {},
   "source": [
    "### What does the data structure look like?"
   ]
  },
  {
   "cell_type": "code",
   "execution_count": 41,
   "metadata": {},
   "outputs": [
    {
     "name": "stdout",
     "output_type": "stream",
     "text": [
      "<class 'pandas.core.frame.DataFrame'>\n",
      "RangeIndex: 323942 entries, 0 to 323941\n",
      "Data columns (total 14 columns):\n",
      "ISIN              323942 non-null object\n",
      "Mnemonic          323942 non-null object\n",
      "SecurityDesc      323942 non-null object\n",
      "SecurityType      323942 non-null object\n",
      "Currency          323942 non-null object\n",
      "SecurityID        323942 non-null int64\n",
      "Date              323942 non-null object\n",
      "Time              323942 non-null object\n",
      "StartPrice        323942 non-null float64\n",
      "MaxPrice          323942 non-null float64\n",
      "MinPrice          323942 non-null float64\n",
      "EndPrice          323942 non-null float64\n",
      "TradedVolume      323942 non-null int64\n",
      "NumberOfTrades    323942 non-null int64\n",
      "dtypes: float64(4), int64(3), object(7)\n",
      "memory usage: 34.6+ MB\n"
     ]
    }
   ],
   "source": [
    "df.info ()"
   ]
  },
  {
   "cell_type": "markdown",
   "metadata": {},
   "source": [
    "### What does the data look like?  Lets see a sample"
   ]
  },
  {
   "cell_type": "code",
   "execution_count": 42,
   "metadata": {},
   "outputs": [
    {
     "data": {
      "text/html": [
       "<div>\n",
       "<style scoped>\n",
       "    .dataframe tbody tr th:only-of-type {\n",
       "        vertical-align: middle;\n",
       "    }\n",
       "\n",
       "    .dataframe tbody tr th {\n",
       "        vertical-align: top;\n",
       "    }\n",
       "\n",
       "    .dataframe thead th {\n",
       "        text-align: right;\n",
       "    }\n",
       "</style>\n",
       "<table border=\"1\" class=\"dataframe\">\n",
       "  <thead>\n",
       "    <tr style=\"text-align: right;\">\n",
       "      <th></th>\n",
       "      <th>ISIN</th>\n",
       "      <th>Mnemonic</th>\n",
       "      <th>SecurityDesc</th>\n",
       "      <th>SecurityType</th>\n",
       "      <th>Currency</th>\n",
       "      <th>SecurityID</th>\n",
       "      <th>Date</th>\n",
       "      <th>Time</th>\n",
       "      <th>StartPrice</th>\n",
       "      <th>MaxPrice</th>\n",
       "      <th>MinPrice</th>\n",
       "      <th>EndPrice</th>\n",
       "      <th>TradedVolume</th>\n",
       "      <th>NumberOfTrades</th>\n",
       "    </tr>\n",
       "  </thead>\n",
       "  <tbody>\n",
       "    <tr>\n",
       "      <th>193053</th>\n",
       "      <td>DE000SHA0159</td>\n",
       "      <td>SHA</td>\n",
       "      <td>SCHAEFFLER AG INH. VZO</td>\n",
       "      <td>Common stock</td>\n",
       "      <td>EUR</td>\n",
       "      <td>2504849</td>\n",
       "      <td>2017-10-19</td>\n",
       "      <td>10:29</td>\n",
       "      <td>13.635</td>\n",
       "      <td>13.635</td>\n",
       "      <td>13.635</td>\n",
       "      <td>13.635</td>\n",
       "      <td>440</td>\n",
       "      <td>1</td>\n",
       "    </tr>\n",
       "    <tr>\n",
       "      <th>158400</th>\n",
       "      <td>DE0005200000</td>\n",
       "      <td>BEI</td>\n",
       "      <td>BEIERSDORF AG O.N.</td>\n",
       "      <td>Common stock</td>\n",
       "      <td>EUR</td>\n",
       "      <td>2504906</td>\n",
       "      <td>2017-10-18</td>\n",
       "      <td>07:42</td>\n",
       "      <td>93.950</td>\n",
       "      <td>93.950</td>\n",
       "      <td>93.950</td>\n",
       "      <td>93.950</td>\n",
       "      <td>173</td>\n",
       "      <td>2</td>\n",
       "    </tr>\n",
       "    <tr>\n",
       "      <th>67338</th>\n",
       "      <td>DE0007568578</td>\n",
       "      <td>F3C</td>\n",
       "      <td>SFC ENERGY AG</td>\n",
       "      <td>Common stock</td>\n",
       "      <td>EUR</td>\n",
       "      <td>2505109</td>\n",
       "      <td>2017-10-17</td>\n",
       "      <td>14:26</td>\n",
       "      <td>6.200</td>\n",
       "      <td>6.200</td>\n",
       "      <td>6.200</td>\n",
       "      <td>6.200</td>\n",
       "      <td>385</td>\n",
       "      <td>2</td>\n",
       "    </tr>\n",
       "    <tr>\n",
       "      <th>313886</th>\n",
       "      <td>DE000ETFL045</td>\n",
       "      <td>EL4D</td>\n",
       "      <td>DK STOXX EUR.STR.VALUE 20</td>\n",
       "      <td>ETF</td>\n",
       "      <td>EUR</td>\n",
       "      <td>2504684</td>\n",
       "      <td>2017-10-20</td>\n",
       "      <td>15:25</td>\n",
       "      <td>21.540</td>\n",
       "      <td>21.540</td>\n",
       "      <td>21.540</td>\n",
       "      <td>21.540</td>\n",
       "      <td>400</td>\n",
       "      <td>1</td>\n",
       "    </tr>\n",
       "    <tr>\n",
       "      <th>160263</th>\n",
       "      <td>GB0007980591</td>\n",
       "      <td>BPE5</td>\n",
       "      <td>BP PLC             DL-,25</td>\n",
       "      <td>Common stock</td>\n",
       "      <td>EUR</td>\n",
       "      <td>2505380</td>\n",
       "      <td>2017-10-18</td>\n",
       "      <td>07:57</td>\n",
       "      <td>5.490</td>\n",
       "      <td>5.490</td>\n",
       "      <td>5.490</td>\n",
       "      <td>5.490</td>\n",
       "      <td>200</td>\n",
       "      <td>1</td>\n",
       "    </tr>\n",
       "  </tbody>\n",
       "</table>\n",
       "</div>"
      ],
      "text/plain": [
       "                ISIN Mnemonic               SecurityDesc  SecurityType  \\\n",
       "193053  DE000SHA0159      SHA     SCHAEFFLER AG INH. VZO  Common stock   \n",
       "158400  DE0005200000      BEI         BEIERSDORF AG O.N.  Common stock   \n",
       "67338   DE0007568578      F3C              SFC ENERGY AG  Common stock   \n",
       "313886  DE000ETFL045     EL4D  DK STOXX EUR.STR.VALUE 20           ETF   \n",
       "160263  GB0007980591     BPE5  BP PLC             DL-,25  Common stock   \n",
       "\n",
       "       Currency  SecurityID        Date   Time  StartPrice  MaxPrice  \\\n",
       "193053      EUR     2504849  2017-10-19  10:29      13.635    13.635   \n",
       "158400      EUR     2504906  2017-10-18  07:42      93.950    93.950   \n",
       "67338       EUR     2505109  2017-10-17  14:26       6.200     6.200   \n",
       "313886      EUR     2504684  2017-10-20  15:25      21.540    21.540   \n",
       "160263      EUR     2505380  2017-10-18  07:57       5.490     5.490   \n",
       "\n",
       "        MinPrice  EndPrice  TradedVolume  NumberOfTrades  \n",
       "193053    13.635    13.635           440               1  \n",
       "158400    93.950    93.950           173               2  \n",
       "67338      6.200     6.200           385               2  \n",
       "313886    21.540    21.540           400               1  \n",
       "160263     5.490     5.490           200               1  "
      ]
     },
     "execution_count": 42,
     "metadata": {},
     "output_type": "execute_result"
    }
   ],
   "source": [
    "df.sample (5)"
   ]
  },
  {
   "cell_type": "markdown",
   "metadata": {},
   "source": [
    "### How diverse are fields like ISIN and Mnemonic?"
   ]
  },
  {
   "cell_type": "code",
   "execution_count": 44,
   "metadata": {},
   "outputs": [
    {
     "data": {
      "text/plain": [
       "1840"
      ]
     },
     "execution_count": 44,
     "metadata": {},
     "output_type": "execute_result"
    }
   ],
   "source": [
    "len(df.ISIN.unique())"
   ]
  },
  {
   "cell_type": "code",
   "execution_count": 45,
   "metadata": {},
   "outputs": [
    {
     "data": {
      "text/plain": [
       "1848"
      ]
     },
     "execution_count": 45,
     "metadata": {},
     "output_type": "execute_result"
    }
   ],
   "source": [
    "len(df.Mnemonic.unique())"
   ]
  },
  {
   "cell_type": "markdown",
   "metadata": {},
   "source": [
    "### How many trade records do we have per mnemonic?"
   ]
  },
  {
   "cell_type": "code",
   "execution_count": 52,
   "metadata": {},
   "outputs": [
    {
     "data": {
      "text/plain": [
       "Mnemonic\n",
       "DAI     2511\n",
       "BAS     2501\n",
       "SAP     2484\n",
       "BMW     2464\n",
       "DBK     2457\n",
       "TKA     2435\n",
       "LHA     2422\n",
       "FRE     2380\n",
       "IFX     2371\n",
       "CBK     2347\n",
       "ALV     2340\n",
       "DPW     2336\n",
       "DTE     2335\n",
       "RWE     2334\n",
       "DB1     2325\n",
       "VOW3    2319\n",
       "BEI     2316\n",
       "EOAN    2306\n",
       "HEI     2296\n",
       "KGX     2286\n",
       "PAH3    2254\n",
       "VNA     2253\n",
       "MRK     2244\n",
       "PSM     2242\n",
       "FME     2209\n",
       "SIE     2199\n",
       "WDI     2195\n",
       "BAYN    2195\n",
       "CON     2188\n",
       "LIN     2178\n",
       "ADS     2173\n",
       "MUV2    2136\n",
       "OSR     2062\n",
       "ZAL     2052\n",
       "UN01    1999\n",
       "G1A     1959\n",
       "BNR     1842\n",
       "ADE     1823\n",
       "DWNI    1822\n",
       "EVT     1820\n",
       "1COV    1798\n",
       "SDF     1773\n",
       "IGY     1760\n",
       "DLG     1755\n",
       "SZG     1743\n",
       "WAF     1737\n",
       "LXS     1735\n",
       "HEN3    1713\n",
       "SZU     1695\n",
       "BOSS    1691\n",
       "Name: Mnemonic, dtype: int64"
      ]
     },
     "execution_count": 52,
     "metadata": {},
     "output_type": "execute_result"
    }
   ],
   "source": [
    "series = df.groupby(df.Mnemonic).Mnemonic.count()\n",
    "series.sort_values (ascending=False)[:50]"
   ]
  },
  {
   "cell_type": "markdown",
   "metadata": {},
   "source": [
    "### Now as a graph?"
   ]
  },
  {
   "cell_type": "code",
   "execution_count": 50,
   "metadata": {},
   "outputs": [
    {
     "data": {
      "text/plain": [
       "<matplotlib.axes._subplots.AxesSubplot at 0x7ff34a04c1d0>"
      ]
     },
     "execution_count": 50,
     "metadata": {},
     "output_type": "execute_result"
    },
    {
     "data": {
      "image/png": "[encoded data removed]",
      "text/plain": [
       "<Figure size 432x288 with 1 Axes>"
      ]
     },
     "metadata": {},
     "output_type": "display_data"
    }
   ],
   "source": [
    "series.sort_values(ascending=False).plot(kind='line')"
   ]
  },
  {
   "cell_type": "markdown",
   "metadata": {},
   "source": [
    "### What about the other fields?"
   ]
  },
  {
   "cell_type": "code",
   "execution_count": 53,
   "metadata": {},
   "outputs": [
    {
     "data": {
      "text/plain": [
       "1771"
      ]
     },
     "execution_count": 53,
     "metadata": {},
     "output_type": "execute_result"
    }
   ],
   "source": [
    "len(df.SecurityDesc.unique())"
   ]
  },
  {
   "cell_type": "code",
   "execution_count": 54,
   "metadata": {},
   "outputs": [
    {
     "data": {
      "text/plain": [
       "array(['ETF', 'Common stock', 'ETC', 'Other', 'ETN'], dtype=object)"
      ]
     },
     "execution_count": 54,
     "metadata": {},
     "output_type": "execute_result"
    }
   ],
   "source": [
    "df.SecurityType.unique()"
   ]
  },
  {
   "cell_type": "markdown",
   "metadata": {},
   "source": [
    "### Whats the distribution like for records by security type?"
   ]
  },
  {
   "cell_type": "code",
   "execution_count": 55,
   "metadata": {},
   "outputs": [
    {
     "data": {
      "text/plain": [
       "Common stock    286933\n",
       "ETF              33960\n",
       "ETC               2170\n",
       "Other              745\n",
       "ETN                134\n",
       "Name: SecurityType, dtype: int64"
      ]
     },
     "execution_count": 55,
     "metadata": {},
     "output_type": "execute_result"
    }
   ],
   "source": [
    "df.SecurityType.value_counts ()"
   ]
  },
  {
   "cell_type": "markdown",
   "metadata": {},
   "source": [
    "### And now currency?"
   ]
  },
  {
   "cell_type": "code",
   "execution_count": 56,
   "metadata": {},
   "outputs": [
    {
     "data": {
      "text/plain": [
       "array(['EUR', 'USD'], dtype=object)"
      ]
     },
     "execution_count": 56,
     "metadata": {},
     "output_type": "execute_result"
    }
   ],
   "source": [
    "df.Currency.unique()"
   ]
  },
  {
   "cell_type": "code",
   "execution_count": 57,
   "metadata": {},
   "outputs": [
    {
     "data": {
      "text/plain": [
       "EUR    323919\n",
       "USD        23\n",
       "Name: Currency, dtype: int64"
      ]
     },
     "execution_count": 57,
     "metadata": {},
     "output_type": "execute_result"
    }
   ],
   "source": [
    "df.Currency.value_counts()"
   ]
  },
  {
   "cell_type": "markdown",
   "metadata": {},
   "source": [
    "### Next, security ID"
   ]
  },
  {
   "cell_type": "code",
   "execution_count": 58,
   "metadata": {},
   "outputs": [
    {
     "data": {
      "text/plain": [
       "1840"
      ]
     },
     "execution_count": 58,
     "metadata": {},
     "output_type": "execute_result"
    }
   ],
   "source": [
    "len(df.SecurityID.unique())"
   ]
  },
  {
   "cell_type": "markdown",
   "metadata": {},
   "source": [
    "That looks a lot like the size of ISIN, they are likely logically equivalent"
   ]
  },
  {
   "cell_type": "code",
   "execution_count": 34,
   "metadata": {},
   "outputs": [
    {
     "data": {
      "text/plain": [
       "<matplotlib.axes._subplots.AxesSubplot at 0x7ff35039b518>"
      ]
     },
     "execution_count": 34,
     "metadata": {},
     "output_type": "execute_result"
    },
    {
     "data": {
      "image/png": "[encoded data removed]",
      "text/plain": [
       "<Figure size 2160x720 with 1 Axes>"
      ]
     },
     "metadata": {
      "needs_background": "light"
     },
     "output_type": "display_data"
    }
   ],
   "source": [
    "df.groupby(df.dt_time.dt.hour).count().plot(kind='line', figsize=(30,10))"
   ]
  },
  {
   "cell_type": "markdown",
   "metadata": {},
   "source": [
    "---\n",
    "## Clean the data "
   ]
  },
  {
   "cell_type": "markdown",
   "metadata": {},
   "source": [
    "### Right now date and time are strings, lets convert them to a date / time format"
   ]
  },
  {
   "cell_type": "code",
   "execution_count": 60,
   "metadata": {},
   "outputs": [],
   "source": [
    "df['dt_date'] = df.Date.astype(np.datetime64)"
   ]
  },
  {
   "cell_type": "code",
   "execution_count": 61,
   "metadata": {},
   "outputs": [],
   "source": [
    "df['dt_time'] = (df.Date +' '+ df.Time).astype(np.datetime64)"
   ]
  },
  {
   "cell_type": "markdown",
   "metadata": {},
   "source": [
    "### How many trades are conducted over time?"
   ]
  },
  {
   "cell_type": "code",
   "execution_count": 62,
   "metadata": {
    "scrolled": true
   },
   "outputs": [
    {
     "data": {
      "text/plain": [
       "<matplotlib.axes._subplots.AxesSubplot at 0x7ff349fa1518>"
      ]
     },
     "execution_count": 62,
     "metadata": {},
     "output_type": "execute_result"
    },
    {
     "data": {
      "image/png": "[encoded data removed]",
      "text/plain": [
       "<Figure size 1080x720 with 1 Axes>"
      ]
     },
     "metadata": {},
     "output_type": "display_data"
    }
   ],
   "source": [
    "df.dt_time.hist (bins=5*24, figsize=(15,10))"
   ]
  },
  {
   "cell_type": "markdown",
   "metadata": {},
   "source": [
    "### On average how many trades are carried out over a day?"
   ]
  },
  {
   "cell_type": "code",
   "execution_count": 63,
   "metadata": {},
   "outputs": [
    {
     "data": {
      "text/plain": [
       "<matplotlib.axes._subplots.AxesSubplot at 0x7ff349ef6b00>"
      ]
     },
     "execution_count": 63,
     "metadata": {},
     "output_type": "execute_result"
    },
    {
     "data": {
      "image/png": "[encoded data removed]",
      "text/plain": [
       "<Figure size 2160x720 with 1 Axes>"
      ]
     },
     "metadata": {},
     "output_type": "display_data"
    }
   ],
   "source": [
    "df.groupby(df.dt_time.dt.hour).dt_time.count().plot(kind='line', figsize=(30,10))"
   ]
  },
  {
   "cell_type": "markdown",
   "metadata": {},
   "source": [
    "### Security type had 5 potential values, lets convert that from a string to a category"
   ]
  },
  {
   "cell_type": "code",
   "execution_count": 64,
   "metadata": {},
   "outputs": [],
   "source": [
    "df.SecurityType = df.SecurityType.astype('category')"
   ]
  },
  {
   "cell_type": "markdown",
   "metadata": {},
   "source": [
    "### Currency was not statistically significant and Security ID, description, and ISIN can be represented  by Mnemonic so lets drop them"
   ]
  },
  {
   "cell_type": "code",
   "execution_count": 65,
   "metadata": {},
   "outputs": [],
   "source": [
    "df.drop(columns=['Currency', 'SecurityID','ISIN','SecurityDesc'], inplace=True)"
   ]
  },
  {
   "cell_type": "markdown",
   "metadata": {},
   "source": [
    "### Lets quickly summarize our data set as it stands"
   ]
  },
  {
   "cell_type": "code",
   "execution_count": 66,
   "metadata": {},
   "outputs": [
    {
     "name": "stdout",
     "output_type": "stream",
     "text": [
      "<class 'pandas.core.frame.DataFrame'>\n",
      "RangeIndex: 323942 entries, 0 to 323941\n",
      "Data columns (total 12 columns):\n",
      "Mnemonic          323942 non-null object\n",
      "SecurityType      323942 non-null category\n",
      "Date              323942 non-null object\n",
      "Time              323942 non-null object\n",
      "StartPrice        323942 non-null float64\n",
      "MaxPrice          323942 non-null float64\n",
      "MinPrice          323942 non-null float64\n",
      "EndPrice          323942 non-null float64\n",
      "TradedVolume      323942 non-null int64\n",
      "NumberOfTrades    323942 non-null int64\n",
      "dt_date           323942 non-null datetime64[ns]\n",
      "dt_time           323942 non-null datetime64[ns]\n",
      "dtypes: category(1), datetime64[ns](2), float64(4), int64(2), object(3)\n",
      "memory usage: 27.5+ MB\n"
     ]
    }
   ],
   "source": [
    "df.info ()"
   ]
  },
  {
   "cell_type": "code",
   "execution_count": 67,
   "metadata": {},
   "outputs": [
    {
     "data": {
      "text/html": [
       "<div>\n",
       "<style scoped>\n",
       "    .dataframe tbody tr th:only-of-type {\n",
       "        vertical-align: middle;\n",
       "    }\n",
       "\n",
       "    .dataframe tbody tr th {\n",
       "        vertical-align: top;\n",
       "    }\n",
       "\n",
       "    .dataframe thead th {\n",
       "        text-align: right;\n",
       "    }\n",
       "</style>\n",
       "<table border=\"1\" class=\"dataframe\">\n",
       "  <thead>\n",
       "    <tr style=\"text-align: right;\">\n",
       "      <th></th>\n",
       "      <th>Mnemonic</th>\n",
       "      <th>SecurityType</th>\n",
       "      <th>Date</th>\n",
       "      <th>Time</th>\n",
       "      <th>StartPrice</th>\n",
       "      <th>MaxPrice</th>\n",
       "      <th>MinPrice</th>\n",
       "      <th>EndPrice</th>\n",
       "      <th>TradedVolume</th>\n",
       "      <th>NumberOfTrades</th>\n",
       "      <th>dt_date</th>\n",
       "      <th>dt_time</th>\n",
       "    </tr>\n",
       "  </thead>\n",
       "  <tbody>\n",
       "    <tr>\n",
       "      <th>44820</th>\n",
       "      <td>HYQ</td>\n",
       "      <td>Common stock</td>\n",
       "      <td>2017-10-16</td>\n",
       "      <td>15:11</td>\n",
       "      <td>159.05</td>\n",
       "      <td>159.10</td>\n",
       "      <td>159.00</td>\n",
       "      <td>159.00</td>\n",
       "      <td>162</td>\n",
       "      <td>7</td>\n",
       "      <td>2017-10-16</td>\n",
       "      <td>2017-10-16 15:11:00</td>\n",
       "    </tr>\n",
       "    <tr>\n",
       "      <th>78077</th>\n",
       "      <td>CON</td>\n",
       "      <td>Common stock</td>\n",
       "      <td>2017-10-17</td>\n",
       "      <td>12:02</td>\n",
       "      <td>214.75</td>\n",
       "      <td>214.75</td>\n",
       "      <td>214.75</td>\n",
       "      <td>214.75</td>\n",
       "      <td>90</td>\n",
       "      <td>1</td>\n",
       "      <td>2017-10-17</td>\n",
       "      <td>2017-10-17 12:02:00</td>\n",
       "    </tr>\n",
       "    <tr>\n",
       "      <th>242448</th>\n",
       "      <td>FIE</td>\n",
       "      <td>Common stock</td>\n",
       "      <td>2017-10-19</td>\n",
       "      <td>14:55</td>\n",
       "      <td>73.06</td>\n",
       "      <td>73.06</td>\n",
       "      <td>73.06</td>\n",
       "      <td>73.06</td>\n",
       "      <td>80</td>\n",
       "      <td>1</td>\n",
       "      <td>2017-10-19</td>\n",
       "      <td>2017-10-19 14:55:00</td>\n",
       "    </tr>\n",
       "    <tr>\n",
       "      <th>41514</th>\n",
       "      <td>QIA</td>\n",
       "      <td>Common stock</td>\n",
       "      <td>2017-10-16</td>\n",
       "      <td>14:48</td>\n",
       "      <td>29.53</td>\n",
       "      <td>29.53</td>\n",
       "      <td>29.53</td>\n",
       "      <td>29.53</td>\n",
       "      <td>303</td>\n",
       "      <td>4</td>\n",
       "      <td>2017-10-16</td>\n",
       "      <td>2017-10-16 14:48:00</td>\n",
       "    </tr>\n",
       "    <tr>\n",
       "      <th>206965</th>\n",
       "      <td>DBXD</td>\n",
       "      <td>ETF</td>\n",
       "      <td>2017-10-19</td>\n",
       "      <td>07:23</td>\n",
       "      <td>126.91</td>\n",
       "      <td>126.91</td>\n",
       "      <td>126.91</td>\n",
       "      <td>126.91</td>\n",
       "      <td>210</td>\n",
       "      <td>1</td>\n",
       "      <td>2017-10-19</td>\n",
       "      <td>2017-10-19 07:23:00</td>\n",
       "    </tr>\n",
       "  </tbody>\n",
       "</table>\n",
       "</div>"
      ],
      "text/plain": [
       "       Mnemonic  SecurityType        Date   Time  StartPrice  MaxPrice  \\\n",
       "44820       HYQ  Common stock  2017-10-16  15:11      159.05    159.10   \n",
       "78077       CON  Common stock  2017-10-17  12:02      214.75    214.75   \n",
       "242448      FIE  Common stock  2017-10-19  14:55       73.06     73.06   \n",
       "41514       QIA  Common stock  2017-10-16  14:48       29.53     29.53   \n",
       "206965     DBXD           ETF  2017-10-19  07:23      126.91    126.91   \n",
       "\n",
       "        MinPrice  EndPrice  TradedVolume  NumberOfTrades    dt_date  \\\n",
       "44820     159.00    159.00           162               7 2017-10-16   \n",
       "78077     214.75    214.75            90               1 2017-10-17   \n",
       "242448     73.06     73.06            80               1 2017-10-19   \n",
       "41514      29.53     29.53           303               4 2017-10-16   \n",
       "206965    126.91    126.91           210               1 2017-10-19   \n",
       "\n",
       "                   dt_time  \n",
       "44820  2017-10-16 15:11:00  \n",
       "78077  2017-10-17 12:02:00  \n",
       "242448 2017-10-19 14:55:00  \n",
       "41514  2017-10-16 14:48:00  \n",
       "206965 2017-10-19 07:23:00  "
      ]
     },
     "execution_count": 67,
     "metadata": {},
     "output_type": "execute_result"
    }
   ],
   "source": [
    "df.sample(5)"
   ]
  },
  {
   "cell_type": "markdown",
   "metadata": {},
   "source": [
    "---\n",
    "## Engineer a feature set"
   ]
  },
  {
   "cell_type": "markdown",
   "metadata": {},
   "source": [
    "### Let's create an indicator variable to mark whether the trade was during opening hours"
   ]
  },
  {
   "cell_type": "code",
   "execution_count": 68,
   "metadata": {},
   "outputs": [],
   "source": [
    "df['in_trading_hours'] = 0\n",
    "df.loc[(df.dt_time.dt.hour > 8) & (df.dt_time.dt.hour <= 20), 'in_trading_hours'] = 1"
   ]
  },
  {
   "cell_type": "markdown",
   "metadata": {},
   "source": [
    "### Now create an interaction feature, calculating the percentage price change"
   ]
  },
  {
   "cell_type": "code",
   "execution_count": 69,
   "metadata": {},
   "outputs": [],
   "source": [
    "df['pct_change'] = (df.EndPrice - df.StartPrice)/df.StartPrice"
   ]
  },
  {
   "cell_type": "markdown",
   "metadata": {},
   "source": [
    "### Let's represent different aspects of the timestamp with feature representation"
   ]
  },
  {
   "cell_type": "markdown",
   "metadata": {},
   "source": [
    "Let's mark what day of the week it is"
   ]
  },
  {
   "cell_type": "code",
   "execution_count": 70,
   "metadata": {},
   "outputs": [],
   "source": [
    "df['day_of_week'] = df.dt_date.dt.weekday"
   ]
  },
  {
   "cell_type": "markdown",
   "metadata": {},
   "source": [
    "How far into the day it is (in minutes)"
   ]
  },
  {
   "cell_type": "code",
   "execution_count": 71,
   "metadata": {},
   "outputs": [],
   "source": [
    "df['min_of_day'] = df.dt_time.dt.hour*60 + df.dt_time.dt.minute"
   ]
  },
  {
   "cell_type": "markdown",
   "metadata": {},
   "source": [
    "### Time of day is a continuous value, lets represent it using geometry"
   ]
  },
  {
   "cell_type": "code",
   "execution_count": 72,
   "metadata": {},
   "outputs": [],
   "source": [
    "minutes_in_day = 24*60\n",
    "\n",
    "df['sin_time'] = np.sin(2*np.pi*df.min_of_day/minutes_in_day)\n",
    "df['cos_time'] = np.cos(2*np.pi*df.min_of_day/minutes_in_day)"
   ]
  },
  {
   "cell_type": "markdown",
   "metadata": {},
   "source": [
    "### Finally we need a target variable, something to predict - a label"
   ]
  },
  {
   "cell_type": "markdown",
   "metadata": {},
   "source": [
    "Let's aim to predict whether the price rises, falls, or stays the same in the next trade"
   ]
  },
  {
   "cell_type": "code",
   "execution_count": 73,
   "metadata": {},
   "outputs": [],
   "source": [
    "df['movement'] = 0\n",
    "df.loc[(df['pct_change'] > 0), 'movement'] = 1\n",
    "df.loc[(df['pct_change'] < 0), 'movement'] = -1\n",
    "df['next_movement'] = 0\n",
    "df['next_movement'] = df.movement.shift (-1)"
   ]
  },
  {
   "cell_type": "markdown",
   "metadata": {},
   "source": [
    "## Explore the engineered data set"
   ]
  },
  {
   "cell_type": "markdown",
   "metadata": {},
   "source": [
    "### Let's sample our engineered data set"
   ]
  },
  {
   "cell_type": "code",
   "execution_count": 74,
   "metadata": {},
   "outputs": [
    {
     "data": {
      "text/html": [
       "<div>\n",
       "<style scoped>\n",
       "    .dataframe tbody tr th:only-of-type {\n",
       "        vertical-align: middle;\n",
       "    }\n",
       "\n",
       "    .dataframe tbody tr th {\n",
       "        vertical-align: top;\n",
       "    }\n",
       "\n",
       "    .dataframe thead th {\n",
       "        text-align: right;\n",
       "    }\n",
       "</style>\n",
       "<table border=\"1\" class=\"dataframe\">\n",
       "  <thead>\n",
       "    <tr style=\"text-align: right;\">\n",
       "      <th></th>\n",
       "      <th>Mnemonic</th>\n",
       "      <th>SecurityType</th>\n",
       "      <th>Date</th>\n",
       "      <th>Time</th>\n",
       "      <th>StartPrice</th>\n",
       "      <th>MaxPrice</th>\n",
       "      <th>MinPrice</th>\n",
       "      <th>EndPrice</th>\n",
       "      <th>TradedVolume</th>\n",
       "      <th>NumberOfTrades</th>\n",
       "      <th>dt_date</th>\n",
       "      <th>dt_time</th>\n",
       "      <th>in_trading_hours</th>\n",
       "      <th>pct_change</th>\n",
       "      <th>day_of_week</th>\n",
       "      <th>min_of_day</th>\n",
       "      <th>sin_time</th>\n",
       "      <th>cos_time</th>\n",
       "      <th>movement</th>\n",
       "      <th>next_movement</th>\n",
       "    </tr>\n",
       "  </thead>\n",
       "  <tbody>\n",
       "    <tr>\n",
       "      <th>70741</th>\n",
       "      <td>SPYD</td>\n",
       "      <td>ETF</td>\n",
       "      <td>2017-10-17</td>\n",
       "      <td>14:49</td>\n",
       "      <td>42.570</td>\n",
       "      <td>42.570</td>\n",
       "      <td>42.560</td>\n",
       "      <td>42.570</td>\n",
       "      <td>250</td>\n",
       "      <td>2</td>\n",
       "      <td>2017-10-17</td>\n",
       "      <td>2017-10-17 14:49:00</td>\n",
       "      <td>1</td>\n",
       "      <td>0.000000</td>\n",
       "      <td>1</td>\n",
       "      <td>889</td>\n",
       "      <td>-0.672367</td>\n",
       "      <td>-0.740218</td>\n",
       "      <td>0</td>\n",
       "      <td>0.0</td>\n",
       "    </tr>\n",
       "    <tr>\n",
       "      <th>30385</th>\n",
       "      <td>SIX2</td>\n",
       "      <td>Common stock</td>\n",
       "      <td>2017-10-16</td>\n",
       "      <td>10:19</td>\n",
       "      <td>69.380</td>\n",
       "      <td>69.380</td>\n",
       "      <td>69.280</td>\n",
       "      <td>69.280</td>\n",
       "      <td>402</td>\n",
       "      <td>5</td>\n",
       "      <td>2017-10-16</td>\n",
       "      <td>2017-10-16 10:19:00</td>\n",
       "      <td>1</td>\n",
       "      <td>-0.001441</td>\n",
       "      <td>0</td>\n",
       "      <td>619</td>\n",
       "      <td>0.426569</td>\n",
       "      <td>-0.904455</td>\n",
       "      <td>-1</td>\n",
       "      <td>0.0</td>\n",
       "    </tr>\n",
       "    <tr>\n",
       "      <th>46394</th>\n",
       "      <td>ZFIN</td>\n",
       "      <td>Common stock</td>\n",
       "      <td>2017-10-16</td>\n",
       "      <td>15:20</td>\n",
       "      <td>255.300</td>\n",
       "      <td>255.300</td>\n",
       "      <td>255.300</td>\n",
       "      <td>255.300</td>\n",
       "      <td>16</td>\n",
       "      <td>4</td>\n",
       "      <td>2017-10-16</td>\n",
       "      <td>2017-10-16 15:20:00</td>\n",
       "      <td>1</td>\n",
       "      <td>0.000000</td>\n",
       "      <td>0</td>\n",
       "      <td>920</td>\n",
       "      <td>-0.766044</td>\n",
       "      <td>-0.642788</td>\n",
       "      <td>0</td>\n",
       "      <td>0.0</td>\n",
       "    </tr>\n",
       "    <tr>\n",
       "      <th>63507</th>\n",
       "      <td>1COV</td>\n",
       "      <td>Common stock</td>\n",
       "      <td>2017-10-16</td>\n",
       "      <td>08:58</td>\n",
       "      <td>72.500</td>\n",
       "      <td>72.500</td>\n",
       "      <td>72.490</td>\n",
       "      <td>72.490</td>\n",
       "      <td>308</td>\n",
       "      <td>3</td>\n",
       "      <td>2017-10-16</td>\n",
       "      <td>2017-10-16 08:58:00</td>\n",
       "      <td>0</td>\n",
       "      <td>-0.000138</td>\n",
       "      <td>0</td>\n",
       "      <td>538</td>\n",
       "      <td>0.713250</td>\n",
       "      <td>-0.700909</td>\n",
       "      <td>-1</td>\n",
       "      <td>0.0</td>\n",
       "    </tr>\n",
       "    <tr>\n",
       "      <th>267593</th>\n",
       "      <td>MLP</td>\n",
       "      <td>Common stock</td>\n",
       "      <td>2017-10-20</td>\n",
       "      <td>09:04</td>\n",
       "      <td>5.917</td>\n",
       "      <td>5.917</td>\n",
       "      <td>5.917</td>\n",
       "      <td>5.917</td>\n",
       "      <td>61</td>\n",
       "      <td>1</td>\n",
       "      <td>2017-10-20</td>\n",
       "      <td>2017-10-20 09:04:00</td>\n",
       "      <td>1</td>\n",
       "      <td>0.000000</td>\n",
       "      <td>4</td>\n",
       "      <td>544</td>\n",
       "      <td>0.694658</td>\n",
       "      <td>-0.719340</td>\n",
       "      <td>0</td>\n",
       "      <td>-1.0</td>\n",
       "    </tr>\n",
       "  </tbody>\n",
       "</table>\n",
       "</div>"
      ],
      "text/plain": [
       "       Mnemonic  SecurityType        Date   Time  StartPrice  MaxPrice  \\\n",
       "70741      SPYD           ETF  2017-10-17  14:49      42.570    42.570   \n",
       "30385      SIX2  Common stock  2017-10-16  10:19      69.380    69.380   \n",
       "46394      ZFIN  Common stock  2017-10-16  15:20     255.300   255.300   \n",
       "63507      1COV  Common stock  2017-10-16  08:58      72.500    72.500   \n",
       "267593      MLP  Common stock  2017-10-20  09:04       5.917     5.917   \n",
       "\n",
       "        MinPrice  EndPrice  TradedVolume  NumberOfTrades    dt_date  \\\n",
       "70741     42.560    42.570           250               2 2017-10-17   \n",
       "30385     69.280    69.280           402               5 2017-10-16   \n",
       "46394    255.300   255.300            16               4 2017-10-16   \n",
       "63507     72.490    72.490           308               3 2017-10-16   \n",
       "267593     5.917     5.917            61               1 2017-10-20   \n",
       "\n",
       "                   dt_time  in_trading_hours  pct_change  day_of_week  \\\n",
       "70741  2017-10-17 14:49:00                 1    0.000000            1   \n",
       "30385  2017-10-16 10:19:00                 1   -0.001441            0   \n",
       "46394  2017-10-16 15:20:00                 1    0.000000            0   \n",
       "63507  2017-10-16 08:58:00                 0   -0.000138            0   \n",
       "267593 2017-10-20 09:04:00                 1    0.000000            4   \n",
       "\n",
       "        min_of_day  sin_time  cos_time  movement  next_movement  \n",
       "70741          889 -0.672367 -0.740218         0            0.0  \n",
       "30385          619  0.426569 -0.904455        -1            0.0  \n",
       "46394          920 -0.766044 -0.642788         0            0.0  \n",
       "63507          538  0.713250 -0.700909        -1            0.0  \n",
       "267593         544  0.694658 -0.719340         0           -1.0  "
      ]
     },
     "execution_count": 74,
     "metadata": {},
     "output_type": "execute_result"
    }
   ],
   "source": [
    "df.sample (5)"
   ]
  },
  {
   "cell_type": "markdown",
   "metadata": {},
   "source": [
    "### What's the distribution of our target variable, do we have a good number of all 3 classes?"
   ]
  },
  {
   "cell_type": "code",
   "execution_count": 75,
   "metadata": {},
   "outputs": [
    {
     "data": {
      "text/plain": [
       " 0.0    186381\n",
       "-1.0     69824\n",
       " 1.0     67736\n",
       "Name: next_movement, dtype: int64"
      ]
     },
     "execution_count": 75,
     "metadata": {},
     "output_type": "execute_result"
    }
   ],
   "source": [
    "df.next_movement.value_counts()"
   ]
  },
  {
   "cell_type": "markdown",
   "metadata": {},
   "source": [
    "Slightly skewed, but not bad"
   ]
  },
  {
   "cell_type": "markdown",
   "metadata": {},
   "source": [
    "### How well do our current features correlate with the next stock movement?"
   ]
  },
  {
   "cell_type": "code",
   "execution_count": 76,
   "metadata": {},
   "outputs": [
    {
     "data": {
      "text/html": [
       "<div>\n",
       "<style scoped>\n",
       "    .dataframe tbody tr th:only-of-type {\n",
       "        vertical-align: middle;\n",
       "    }\n",
       "\n",
       "    .dataframe tbody tr th {\n",
       "        vertical-align: top;\n",
       "    }\n",
       "\n",
       "    .dataframe thead th {\n",
       "        text-align: right;\n",
       "    }\n",
       "</style>\n",
       "<table border=\"1\" class=\"dataframe\">\n",
       "  <thead>\n",
       "    <tr style=\"text-align: right;\">\n",
       "      <th></th>\n",
       "      <th>next_movement</th>\n",
       "    </tr>\n",
       "  </thead>\n",
       "  <tbody>\n",
       "    <tr>\n",
       "      <th>StartPrice</th>\n",
       "      <td>0.000433</td>\n",
       "    </tr>\n",
       "    <tr>\n",
       "      <th>MaxPrice</th>\n",
       "      <td>0.000437</td>\n",
       "    </tr>\n",
       "    <tr>\n",
       "      <th>MinPrice</th>\n",
       "      <td>0.000440</td>\n",
       "    </tr>\n",
       "    <tr>\n",
       "      <th>EndPrice</th>\n",
       "      <td>0.000444</td>\n",
       "    </tr>\n",
       "    <tr>\n",
       "      <th>TradedVolume</th>\n",
       "      <td>-0.001360</td>\n",
       "    </tr>\n",
       "    <tr>\n",
       "      <th>NumberOfTrades</th>\n",
       "      <td>0.000666</td>\n",
       "    </tr>\n",
       "    <tr>\n",
       "      <th>in_trading_hours</th>\n",
       "      <td>0.008522</td>\n",
       "    </tr>\n",
       "    <tr>\n",
       "      <th>pct_change</th>\n",
       "      <td>0.010498</td>\n",
       "    </tr>\n",
       "    <tr>\n",
       "      <th>day_of_week</th>\n",
       "      <td>-0.003230</td>\n",
       "    </tr>\n",
       "    <tr>\n",
       "      <th>min_of_day</th>\n",
       "      <td>0.005476</td>\n",
       "    </tr>\n",
       "    <tr>\n",
       "      <th>sin_time</th>\n",
       "      <td>-0.004986</td>\n",
       "    </tr>\n",
       "    <tr>\n",
       "      <th>cos_time</th>\n",
       "      <td>-0.006512</td>\n",
       "    </tr>\n",
       "    <tr>\n",
       "      <th>movement</th>\n",
       "      <td>0.027980</td>\n",
       "    </tr>\n",
       "    <tr>\n",
       "      <th>next_movement</th>\n",
       "      <td>1.000000</td>\n",
       "    </tr>\n",
       "  </tbody>\n",
       "</table>\n",
       "</div>"
      ],
      "text/plain": [
       "                  next_movement\n",
       "StartPrice             0.000433\n",
       "MaxPrice               0.000437\n",
       "MinPrice               0.000440\n",
       "EndPrice               0.000444\n",
       "TradedVolume          -0.001360\n",
       "NumberOfTrades         0.000666\n",
       "in_trading_hours       0.008522\n",
       "pct_change             0.010498\n",
       "day_of_week           -0.003230\n",
       "min_of_day             0.005476\n",
       "sin_time              -0.004986\n",
       "cos_time              -0.006512\n",
       "movement               0.027980\n",
       "next_movement          1.000000"
      ]
     },
     "execution_count": 76,
     "metadata": {},
     "output_type": "execute_result"
    }
   ],
   "source": [
    "df.corr()[['next_movement']]"
   ]
  },
  {
   "cell_type": "markdown",
   "metadata": {},
   "source": [
    "### And what is the correlation of all fields with all others?"
   ]
  },
  {
   "cell_type": "code",
   "execution_count": 78,
   "metadata": {},
   "outputs": [
    {
     "data": {
      "text/html": [
       "<div>\n",
       "<style scoped>\n",
       "    .dataframe tbody tr th:only-of-type {\n",
       "        vertical-align: middle;\n",
       "    }\n",
       "\n",
       "    .dataframe tbody tr th {\n",
       "        vertical-align: top;\n",
       "    }\n",
       "\n",
       "    .dataframe thead th {\n",
       "        text-align: right;\n",
       "    }\n",
       "</style>\n",
       "<table border=\"1\" class=\"dataframe\">\n",
       "  <thead>\n",
       "    <tr style=\"text-align: right;\">\n",
       "      <th></th>\n",
       "      <th>StartPrice</th>\n",
       "      <th>MaxPrice</th>\n",
       "      <th>MinPrice</th>\n",
       "      <th>EndPrice</th>\n",
       "      <th>TradedVolume</th>\n",
       "      <th>NumberOfTrades</th>\n",
       "      <th>in_trading_hours</th>\n",
       "      <th>pct_change</th>\n",
       "      <th>day_of_week</th>\n",
       "      <th>min_of_day</th>\n",
       "      <th>sin_time</th>\n",
       "      <th>cos_time</th>\n",
       "      <th>movement</th>\n",
       "      <th>next_movement</th>\n",
       "    </tr>\n",
       "  </thead>\n",
       "  <tbody>\n",
       "    <tr>\n",
       "      <th>StartPrice</th>\n",
       "      <td>1.000000</td>\n",
       "      <td>1.000000</td>\n",
       "      <td>0.999999</td>\n",
       "      <td>0.999999</td>\n",
       "      <td>-0.088841</td>\n",
       "      <td>0.005808</td>\n",
       "      <td>-0.002048</td>\n",
       "      <td>0.001392</td>\n",
       "      <td>0.000455</td>\n",
       "      <td>-0.001811</td>\n",
       "      <td>0.001384</td>\n",
       "      <td>-0.002420</td>\n",
       "      <td>0.000100</td>\n",
       "      <td>0.000433</td>\n",
       "    </tr>\n",
       "    <tr>\n",
       "      <th>MaxPrice</th>\n",
       "      <td>1.000000</td>\n",
       "      <td>1.000000</td>\n",
       "      <td>0.999999</td>\n",
       "      <td>1.000000</td>\n",
       "      <td>-0.088822</td>\n",
       "      <td>0.005983</td>\n",
       "      <td>-0.002084</td>\n",
       "      <td>0.001631</td>\n",
       "      <td>0.000468</td>\n",
       "      <td>-0.001834</td>\n",
       "      <td>0.001403</td>\n",
       "      <td>-0.002377</td>\n",
       "      <td>0.000280</td>\n",
       "      <td>0.000437</td>\n",
       "    </tr>\n",
       "    <tr>\n",
       "      <th>MinPrice</th>\n",
       "      <td>0.999999</td>\n",
       "      <td>0.999999</td>\n",
       "      <td>1.000000</td>\n",
       "      <td>1.000000</td>\n",
       "      <td>-0.088864</td>\n",
       "      <td>0.005601</td>\n",
       "      <td>-0.002008</td>\n",
       "      <td>0.001768</td>\n",
       "      <td>0.000440</td>\n",
       "      <td>-0.001784</td>\n",
       "      <td>0.001360</td>\n",
       "      <td>-0.002468</td>\n",
       "      <td>0.000300</td>\n",
       "      <td>0.000440</td>\n",
       "    </tr>\n",
       "    <tr>\n",
       "      <th>EndPrice</th>\n",
       "      <td>0.999999</td>\n",
       "      <td>1.000000</td>\n",
       "      <td>1.000000</td>\n",
       "      <td>1.000000</td>\n",
       "      <td>-0.088844</td>\n",
       "      <td>0.005787</td>\n",
       "      <td>-0.002043</td>\n",
       "      <td>0.001976</td>\n",
       "      <td>0.000453</td>\n",
       "      <td>-0.001806</td>\n",
       "      <td>0.001379</td>\n",
       "      <td>-0.002425</td>\n",
       "      <td>0.000465</td>\n",
       "      <td>0.000444</td>\n",
       "    </tr>\n",
       "    <tr>\n",
       "      <th>TradedVolume</th>\n",
       "      <td>-0.088841</td>\n",
       "      <td>-0.088822</td>\n",
       "      <td>-0.088864</td>\n",
       "      <td>-0.088844</td>\n",
       "      <td>1.000000</td>\n",
       "      <td>0.345626</td>\n",
       "      <td>-0.029025</td>\n",
       "      <td>-0.021525</td>\n",
       "      <td>0.017288</td>\n",
       "      <td>-0.017295</td>\n",
       "      <td>0.014958</td>\n",
       "      <td>0.038552</td>\n",
       "      <td>-0.003111</td>\n",
       "      <td>-0.001360</td>\n",
       "    </tr>\n",
       "    <tr>\n",
       "      <th>NumberOfTrades</th>\n",
       "      <td>0.005808</td>\n",
       "      <td>0.005983</td>\n",
       "      <td>0.005601</td>\n",
       "      <td>0.005787</td>\n",
       "      <td>0.345626</td>\n",
       "      <td>1.000000</td>\n",
       "      <td>-0.067097</td>\n",
       "      <td>-0.030841</td>\n",
       "      <td>0.054896</td>\n",
       "      <td>-0.034875</td>\n",
       "      <td>0.028009</td>\n",
       "      <td>0.096449</td>\n",
       "      <td>-0.008283</td>\n",
       "      <td>0.000666</td>\n",
       "    </tr>\n",
       "    <tr>\n",
       "      <th>in_trading_hours</th>\n",
       "      <td>-0.002048</td>\n",
       "      <td>-0.002084</td>\n",
       "      <td>-0.002008</td>\n",
       "      <td>-0.002043</td>\n",
       "      <td>-0.029025</td>\n",
       "      <td>-0.067097</td>\n",
       "      <td>1.000000</td>\n",
       "      <td>0.003549</td>\n",
       "      <td>0.003329</td>\n",
       "      <td>0.743416</td>\n",
       "      <td>-0.708021</td>\n",
       "      <td>-0.806757</td>\n",
       "      <td>0.008511</td>\n",
       "      <td>0.008522</td>\n",
       "    </tr>\n",
       "    <tr>\n",
       "      <th>pct_change</th>\n",
       "      <td>0.001392</td>\n",
       "      <td>0.001631</td>\n",
       "      <td>0.001768</td>\n",
       "      <td>0.001976</td>\n",
       "      <td>-0.021525</td>\n",
       "      <td>-0.030841</td>\n",
       "      <td>0.003549</td>\n",
       "      <td>1.000000</td>\n",
       "      <td>-0.002443</td>\n",
       "      <td>0.003106</td>\n",
       "      <td>-0.002627</td>\n",
       "      <td>-0.003353</td>\n",
       "      <td>0.424142</td>\n",
       "      <td>0.010498</td>\n",
       "    </tr>\n",
       "    <tr>\n",
       "      <th>day_of_week</th>\n",
       "      <td>0.000455</td>\n",
       "      <td>0.000468</td>\n",
       "      <td>0.000440</td>\n",
       "      <td>0.000453</td>\n",
       "      <td>0.017288</td>\n",
       "      <td>0.054896</td>\n",
       "      <td>0.003329</td>\n",
       "      <td>-0.002443</td>\n",
       "      <td>1.000000</td>\n",
       "      <td>0.002365</td>\n",
       "      <td>-0.002150</td>\n",
       "      <td>-0.007327</td>\n",
       "      <td>-0.003226</td>\n",
       "      <td>-0.003230</td>\n",
       "    </tr>\n",
       "    <tr>\n",
       "      <th>min_of_day</th>\n",
       "      <td>-0.001811</td>\n",
       "      <td>-0.001834</td>\n",
       "      <td>-0.001784</td>\n",
       "      <td>-0.001806</td>\n",
       "      <td>-0.017295</td>\n",
       "      <td>-0.034875</td>\n",
       "      <td>0.743416</td>\n",
       "      <td>0.003106</td>\n",
       "      <td>0.002365</td>\n",
       "      <td>1.000000</td>\n",
       "      <td>-0.996917</td>\n",
       "      <td>-0.514232</td>\n",
       "      <td>0.005451</td>\n",
       "      <td>0.005476</td>\n",
       "    </tr>\n",
       "    <tr>\n",
       "      <th>sin_time</th>\n",
       "      <td>0.001384</td>\n",
       "      <td>0.001403</td>\n",
       "      <td>0.001360</td>\n",
       "      <td>0.001379</td>\n",
       "      <td>0.014958</td>\n",
       "      <td>0.028009</td>\n",
       "      <td>-0.708021</td>\n",
       "      <td>-0.002627</td>\n",
       "      <td>-0.002150</td>\n",
       "      <td>-0.996917</td>\n",
       "      <td>1.000000</td>\n",
       "      <td>0.469090</td>\n",
       "      <td>-0.004975</td>\n",
       "      <td>-0.004986</td>\n",
       "    </tr>\n",
       "    <tr>\n",
       "      <th>cos_time</th>\n",
       "      <td>-0.002420</td>\n",
       "      <td>-0.002377</td>\n",
       "      <td>-0.002468</td>\n",
       "      <td>-0.002425</td>\n",
       "      <td>0.038552</td>\n",
       "      <td>0.096449</td>\n",
       "      <td>-0.806757</td>\n",
       "      <td>-0.003353</td>\n",
       "      <td>-0.007327</td>\n",
       "      <td>-0.514232</td>\n",
       "      <td>0.469090</td>\n",
       "      <td>1.000000</td>\n",
       "      <td>-0.006572</td>\n",
       "      <td>-0.006512</td>\n",
       "    </tr>\n",
       "    <tr>\n",
       "      <th>movement</th>\n",
       "      <td>0.000100</td>\n",
       "      <td>0.000280</td>\n",
       "      <td>0.000300</td>\n",
       "      <td>0.000465</td>\n",
       "      <td>-0.003111</td>\n",
       "      <td>-0.008283</td>\n",
       "      <td>0.008511</td>\n",
       "      <td>0.424142</td>\n",
       "      <td>-0.003226</td>\n",
       "      <td>0.005451</td>\n",
       "      <td>-0.004975</td>\n",
       "      <td>-0.006572</td>\n",
       "      <td>1.000000</td>\n",
       "      <td>0.027980</td>\n",
       "    </tr>\n",
       "    <tr>\n",
       "      <th>next_movement</th>\n",
       "      <td>0.000433</td>\n",
       "      <td>0.000437</td>\n",
       "      <td>0.000440</td>\n",
       "      <td>0.000444</td>\n",
       "      <td>-0.001360</td>\n",
       "      <td>0.000666</td>\n",
       "      <td>0.008522</td>\n",
       "      <td>0.010498</td>\n",
       "      <td>-0.003230</td>\n",
       "      <td>0.005476</td>\n",
       "      <td>-0.004986</td>\n",
       "      <td>-0.006512</td>\n",
       "      <td>0.027980</td>\n",
       "      <td>1.000000</td>\n",
       "    </tr>\n",
       "  </tbody>\n",
       "</table>\n",
       "</div>"
      ],
      "text/plain": [
       "                  StartPrice  MaxPrice  MinPrice  EndPrice  TradedVolume  \\\n",
       "StartPrice          1.000000  1.000000  0.999999  0.999999     -0.088841   \n",
       "MaxPrice            1.000000  1.000000  0.999999  1.000000     -0.088822   \n",
       "MinPrice            0.999999  0.999999  1.000000  1.000000     -0.088864   \n",
       "EndPrice            0.999999  1.000000  1.000000  1.000000     -0.088844   \n",
       "TradedVolume       -0.088841 -0.088822 -0.088864 -0.088844      1.000000   \n",
       "NumberOfTrades      0.005808  0.005983  0.005601  0.005787      0.345626   \n",
       "in_trading_hours   -0.002048 -0.002084 -0.002008 -0.002043     -0.029025   \n",
       "pct_change          0.001392  0.001631  0.001768  0.001976     -0.021525   \n",
       "day_of_week         0.000455  0.000468  0.000440  0.000453      0.017288   \n",
       "min_of_day         -0.001811 -0.001834 -0.001784 -0.001806     -0.017295   \n",
       "sin_time            0.001384  0.001403  0.001360  0.001379      0.014958   \n",
       "cos_time           -0.002420 -0.002377 -0.002468 -0.002425      0.038552   \n",
       "movement            0.000100  0.000280  0.000300  0.000465     -0.003111   \n",
       "next_movement       0.000433  0.000437  0.000440  0.000444     -0.001360   \n",
       "\n",
       "                  NumberOfTrades  in_trading_hours  pct_change  day_of_week  \\\n",
       "StartPrice              0.005808         -0.002048    0.001392     0.000455   \n",
       "MaxPrice                0.005983         -0.002084    0.001631     0.000468   \n",
       "MinPrice                0.005601         -0.002008    0.001768     0.000440   \n",
       "EndPrice                0.005787         -0.002043    0.001976     0.000453   \n",
       "TradedVolume            0.345626         -0.029025   -0.021525     0.017288   \n",
       "NumberOfTrades          1.000000         -0.067097   -0.030841     0.054896   \n",
       "in_trading_hours       -0.067097          1.000000    0.003549     0.003329   \n",
       "pct_change             -0.030841          0.003549    1.000000    -0.002443   \n",
       "day_of_week             0.054896          0.003329   -0.002443     1.000000   \n",
       "min_of_day             -0.034875          0.743416    0.003106     0.002365   \n",
       "sin_time                0.028009         -0.708021   -0.002627    -0.002150   \n",
       "cos_time                0.096449         -0.806757   -0.003353    -0.007327   \n",
       "movement               -0.008283          0.008511    0.424142    -0.003226   \n",
       "next_movement           0.000666          0.008522    0.010498    -0.003230   \n",
       "\n",
       "                  min_of_day  sin_time  cos_time  movement  next_movement  \n",
       "StartPrice         -0.001811  0.001384 -0.002420  0.000100       0.000433  \n",
       "MaxPrice           -0.001834  0.001403 -0.002377  0.000280       0.000437  \n",
       "MinPrice           -0.001784  0.001360 -0.002468  0.000300       0.000440  \n",
       "EndPrice           -0.001806  0.001379 -0.002425  0.000465       0.000444  \n",
       "TradedVolume       -0.017295  0.014958  0.038552 -0.003111      -0.001360  \n",
       "NumberOfTrades     -0.034875  0.028009  0.096449 -0.008283       0.000666  \n",
       "in_trading_hours    0.743416 -0.708021 -0.806757  0.008511       0.008522  \n",
       "pct_change          0.003106 -0.002627 -0.003353  0.424142       0.010498  \n",
       "day_of_week         0.002365 -0.002150 -0.007327 -0.003226      -0.003230  \n",
       "min_of_day          1.000000 -0.996917 -0.514232  0.005451       0.005476  \n",
       "sin_time           -0.996917  1.000000  0.469090 -0.004975      -0.004986  \n",
       "cos_time           -0.514232  0.469090  1.000000 -0.006572      -0.006512  \n",
       "movement            0.005451 -0.004975 -0.006572  1.000000       0.027980  \n",
       "next_movement       0.005476 -0.004986 -0.006512  0.027980       1.000000  "
      ]
     },
     "execution_count": 78,
     "metadata": {},
     "output_type": "execute_result"
    }
   ],
   "source": [
    "pd.options.display.max_columns = 35\n",
    "df.corr ()"
   ]
  },
  {
   "cell_type": "markdown",
   "metadata": {},
   "source": [
    "### Make it pretty"
   ]
  },
  {
   "cell_type": "code",
   "execution_count": 91,
   "metadata": {},
   "outputs": [
    {
     "data": {
      "text/plain": [
       "<matplotlib.axes._subplots.AxesSubplot at 0x7ff3498d5b38>"
      ]
     },
     "execution_count": 91,
     "metadata": {},
     "output_type": "execute_result"
    },
    {
     "data": {
      "image/png": "[encoded data removed]",
      "text/plain": [
       "<Figure size 720x720 with 2 Axes>"
      ]
     },
     "metadata": {},
     "output_type": "display_data"
    }
   ],
   "source": [
    "corr = df.corr()\n",
    "fig, ax = plt.subplots(figsize=(10,10))   \n",
    "sns.heatmap(corr, xticklabels=corr.columns, yticklabels=corr.columns, ax=ax)"
   ]
  },
  {
   "cell_type": "markdown",
   "metadata": {},
   "source": [
    "---\n",
    "## Quick test using sklearn"
   ]
  },
  {
   "cell_type": "markdown",
   "metadata": {},
   "source": [
    "### Lets quickly train a GBM on our data and see how it performs"
   ]
  },
  {
   "cell_type": "markdown",
   "metadata": {},
   "source": [
    "Using SciKit Learn, lets train a gradient boosted model to classifier our trade events and try to predict movement.\n",
    "\n",
    "First create a classifier..."
   ]
  },
  {
   "cell_type": "code",
   "execution_count": 92,
   "metadata": {},
   "outputs": [],
   "source": [
    "from sklearn.ensemble import GradientBoostingClassifier\n",
    "gbc = GradientBoostingClassifier(n_estimators=20, subsample=0.3, max_depth=12, verbose=1)"
   ]
  },
  {
   "cell_type": "markdown",
   "metadata": {},
   "source": [
    "Next split our data set into training data and test data, keep the labels separate from the features."
   ]
  },
  {
   "cell_type": "code",
   "execution_count": 93,
   "metadata": {},
   "outputs": [],
   "source": [
    "from sklearn.model_selection import train_test_split\n",
    "\n",
    "data_X = pd.get_dummies(df.drop(columns=['Mnemonic', 'Date', 'Time', 'dt_date', 'dt_time', 'next_movement'], axis = 1)) \n",
    "data_Y = df.next_movement\n",
    "data_Y.fillna(0, inplace=True)\n",
    "train_X, test_X, train_Y, test_Y = train_test_split (data_X, data_Y, test_size=0.2)\n",
    "\n",
    "sample_weights = np.ones(train_X.shape[0])"
   ]
  },
  {
   "cell_type": "markdown",
   "metadata": {},
   "source": [
    "Next fit the model, train it on the training data"
   ]
  },
  {
   "cell_type": "code",
   "execution_count": 95,
   "metadata": {},
   "outputs": [
    {
     "name": "stdout",
     "output_type": "stream",
     "text": [
      "      Iter       Train Loss      OOB Improve   Remaining Time \n",
      "         1       77700.8147        2682.2483           10.61m\n",
      "         2       76575.1658        2136.9760           10.43m\n",
      "         3       75602.1123        1703.9269           10.33m\n",
      "         4       74795.7857        1396.4559            9.74m\n",
      "         5       73977.8271        1169.7251            8.96m\n",
      "         6       73595.1991         888.2815            8.17m\n",
      "         7       73029.5027         763.4860            7.44m\n",
      "         8       72511.6785         583.5769            6.94m\n",
      "         9       72123.4630         525.9162            6.28m\n",
      "        10       71620.3676         377.6864            5.65m\n",
      "        20       69530.2653          19.7887            0.00s\n"
     ]
    },
    {
     "data": {
      "text/plain": [
       "GradientBoostingClassifier(criterion='friedman_mse', init=None,\n",
       "              learning_rate=0.1, loss='deviance', max_depth=12,\n",
       "              max_features=None, max_leaf_nodes=None,\n",
       "              min_impurity_decrease=0.0, min_impurity_split=None,\n",
       "              min_samples_leaf=1, min_samples_split=2,\n",
       "              min_weight_fraction_leaf=0.0, n_estimators=20,\n",
       "              presort='auto', random_state=None, subsample=0.3, verbose=1,\n",
       "              warm_start=False)"
      ]
     },
     "execution_count": 95,
     "metadata": {},
     "output_type": "execute_result"
    }
   ],
   "source": [
    "gbc.fit(train_X.values, train_Y.values, sample_weight=sample_weights)"
   ]
  },
  {
   "cell_type": "markdown",
   "metadata": {},
   "source": [
    "### Training is complete, how accurate is it?"
   ]
  },
  {
   "cell_type": "code",
   "execution_count": 96,
   "metadata": {},
   "outputs": [],
   "source": [
    "pred = gbc.predict(test_X)"
   ]
  },
  {
   "cell_type": "code",
   "execution_count": 99,
   "metadata": {},
   "outputs": [
    {
     "data": {
      "text/plain": [
       "0.57820000308694375"
      ]
     },
     "execution_count": 99,
     "metadata": {},
     "output_type": "execute_result"
    }
   ],
   "source": [
    "from sklearn.metrics import accuracy_score\n",
    "accuracy_score (test_Y, pred)"
   ]
  },
  {
   "cell_type": "markdown",
   "metadata": {},
   "source": [
    "Not bad, slightly better than guessing!"
   ]
  },
  {
   "cell_type": "markdown",
   "metadata": {},
   "source": [
    "Lets ensure we haven't overfit, lets test on the original training data..."
   ]
  },
  {
   "cell_type": "code",
   "execution_count": 100,
   "metadata": {},
   "outputs": [
    {
     "data": {
      "text/plain": [
       "0.5940892059902837"
      ]
     },
     "execution_count": 100,
     "metadata": {},
     "output_type": "execute_result"
    }
   ],
   "source": [
    "train_pred = gbc.predict(train_X)\n",
    "accuracy_score (train_Y, train_pred)"
   ]
  },
  {
   "cell_type": "markdown",
   "metadata": {},
   "source": [
    "We don't appear to have memorized the training set so that's good but accuracy could probably be improved.  What refinement do you think we could make to the training data to increase our accuracy?"
   ]
  },
  {
   "cell_type": "markdown",
   "metadata": {},
   "source": [
    "---\n",
    "\n",
    "If we wanted to see a breakdown of how the model has misclassified observations we can use a confusion matrix."
   ]
  },
  {
   "cell_type": "code",
   "execution_count": 97,
   "metadata": {},
   "outputs": [
    {
     "data": {
      "text/plain": [
       "array([[  317, 13266,   292],\n",
       "       [  319, 36828,   248],\n",
       "       [  272, 12931,   316]])"
      ]
     },
     "execution_count": 97,
     "metadata": {},
     "output_type": "execute_result"
    }
   ],
   "source": [
    "from sklearn.metrics import confusion_matrix\n",
    "cfm = confusion_matrix(test_Y, pred)\n",
    "cfm"
   ]
  },
  {
   "cell_type": "markdown",
   "metadata": {},
   "source": [
    "Now visually paint the confusion matrix in color..."
   ]
  },
  {
   "cell_type": "code",
   "execution_count": 98,
   "metadata": {},
   "outputs": [
    {
     "data": {
      "image/png": "[encoded data removed]",
      "text/plain": [
       "<Figure size 720x720 with 2 Axes>"
      ]
     },
     "metadata": {},
     "output_type": "display_data"
    }
   ],
   "source": [
    "fig = plt.figure(figsize=(10,10))\n",
    "heatmap = sns.heatmap(cfm, annot=True, fmt=\"d\")\n",
    "heatmap.yaxis.set_ticklabels(heatmap.yaxis.get_ticklabels(), rotation=0, ha='right', fontsize=10)\n",
    "heatmap.xaxis.set_ticklabels(heatmap.xaxis.get_ticklabels(), rotation=45, ha='right', fontsize=10)\n",
    "plt.ylabel('True label')\n",
    "plt.xlabel('Predicted label')\n",
    "plt.show()"
   ]
  }
 ],
 "metadata": {
  "kernelspec": {
   "display_name": "Python 3",
   "language": "python",
   "name": "python3"
  },
  "language_info": {
   "codemirror_mode": {
    "name": "ipython",
    "version": 3
   },
   "file_extension": ".py",
   "mimetype": "text/x-python",
   "name": "python",
   "nbconvert_exporter": "python",
   "pygments_lexer": "ipython3",
   "version": "3.6.6"
  }
 },
 "nbformat": 4,
 "nbformat_minor": 2
}
